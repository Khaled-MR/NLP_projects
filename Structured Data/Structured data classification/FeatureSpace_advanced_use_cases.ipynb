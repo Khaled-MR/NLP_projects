{
  "nbformat": 4,
  "nbformat_minor": 0,
  "metadata": {
    "colab": {
      "provenance": [],
      "gpuType": "T4"
    },
    "kernelspec": {
      "name": "python3",
      "display_name": "Python 3"
    },
    "language_info": {
      "name": "python"
    },
    "accelerator": "GPU"
  },
  "cells": [
    {
      "cell_type": "code",
      "execution_count": 2,
      "metadata": {
        "id": "nc-Ajg-mXRSD"
      },
      "outputs": [],
      "source": [
        "import os\n",
        "\n",
        "os.environ[\"KERAS_BACKEND\"] = \"tensorflow\"\n",
        "\n",
        "import keras\n",
        "from keras.utils import FeatureSpace\n",
        "import pandas as pd\n",
        "import tensorflow as tf\n",
        "from pathlib import Path\n",
        "from zipfile import ZipFile"
      ]
    },
    {
      "cell_type": "code",
      "source": [
        "data_url = \"https://archive.ics.uci.edu/static/public/222/bank+marketing.zip\"\n",
        "data_zipped_path = keras.utils.get_file(\"bank_marketing.zip\", data_url, extract=True)\n",
        "keras_datasets_path = Path(data_zipped_path).parents[0]\n",
        "with ZipFile(f\"{keras_datasets_path}/bank-additional.zip\", \"r\") as zip:\n",
        "    # Extract files\n",
        "    zip.extractall(path=keras_datasets_path)\n",
        "\n",
        "dataframe = pd.read_csv(\n",
        "    f\"{keras_datasets_path}/bank-additional/bank-additional.csv\", sep=\";\"\n",
        ")"
      ],
      "metadata": {
        "colab": {
          "base_uri": "https://localhost:8080/"
        },
        "id": "R3yHv2sOXXOy",
        "outputId": "e8389565-464f-46b1-b8ae-038b3c555892"
      },
      "execution_count": 3,
      "outputs": [
        {
          "output_type": "stream",
          "name": "stdout",
          "text": [
            "Downloading data from https://archive.ics.uci.edu/static/public/222/bank+marketing.zip\n",
            " 851968/Unknown \u001b[1m1s\u001b[0m 1us/step"
          ]
        }
      ]
    },
    {
      "cell_type": "code",
      "source": [
        "# Droping `duration` to avoid target leak\n",
        "dataframe.drop(\"duration\", axis=1, inplace=True)\n",
        "# Creating the new feature `previously_contacted`\n",
        "dataframe[\"previously_contacted\"] = dataframe[\"pdays\"].map(\n",
        "    lambda x: 0 if x == 999 else 1\n",
        ")"
      ],
      "metadata": {
        "id": "VtXC0nXBX9Om"
      },
      "execution_count": 4,
      "outputs": []
    },
    {
      "cell_type": "code",
      "source": [
        "print(f\"Dataframe shape: {dataframe.shape}\")\n",
        "print(dataframe.head())"
      ],
      "metadata": {
        "colab": {
          "base_uri": "https://localhost:8080/"
        },
        "id": "uUqXxSJxYRAq",
        "outputId": "e62f7f3a-a1ff-41af-da13-373d2aaaa6a1"
      },
      "execution_count": 5,
      "outputs": [
        {
          "output_type": "stream",
          "name": "stdout",
          "text": [
            "Dataframe shape: (4119, 21)\n",
            "   age          job  marital          education default  housing     loan  \\\n",
            "0   30  blue-collar  married           basic.9y      no      yes       no   \n",
            "1   39     services   single        high.school      no       no       no   \n",
            "2   25     services  married        high.school      no      yes       no   \n",
            "3   38     services  married           basic.9y      no  unknown  unknown   \n",
            "4   47       admin.  married  university.degree      no      yes       no   \n",
            "\n",
            "     contact month day_of_week  ...  pdays  previous     poutcome  \\\n",
            "0   cellular   may         fri  ...    999         0  nonexistent   \n",
            "1  telephone   may         fri  ...    999         0  nonexistent   \n",
            "2  telephone   jun         wed  ...    999         0  nonexistent   \n",
            "3  telephone   jun         fri  ...    999         0  nonexistent   \n",
            "4   cellular   nov         mon  ...    999         0  nonexistent   \n",
            "\n",
            "  emp.var.rate  cons.price.idx  cons.conf.idx  euribor3m  nr.employed   y  \\\n",
            "0         -1.8          92.893          -46.2      1.313       5099.1  no   \n",
            "1          1.1          93.994          -36.4      4.855       5191.0  no   \n",
            "2          1.4          94.465          -41.8      4.962       5228.1  no   \n",
            "3          1.4          94.465          -41.8      4.959       5228.1  no   \n",
            "4         -0.1          93.200          -42.0      4.191       5195.8  no   \n",
            "\n",
            "  previously_contacted  \n",
            "0                    0  \n",
            "1                    0  \n",
            "2                    0  \n",
            "3                    0  \n",
            "4                    0  \n",
            "\n",
            "[5 rows x 21 columns]\n"
          ]
        }
      ]
    },
    {
      "cell_type": "code",
      "source": [
        "valid_dataframe = dataframe.sample(frac=0.2, random_state=0)\n",
        "train_dataframe = dataframe.drop(valid_dataframe.index)\n",
        "\n",
        "print(\n",
        "    f\"Using {len(train_dataframe)} samples for training and \"\n",
        "    f\"{len(valid_dataframe)} for validation\"\n",
        ")"
      ],
      "metadata": {
        "colab": {
          "base_uri": "https://localhost:8080/"
        },
        "id": "-ol7Phd1YYRQ",
        "outputId": "a71c0caf-0086-4da4-94cf-2a45a69e3b01"
      },
      "execution_count": 6,
      "outputs": [
        {
          "output_type": "stream",
          "name": "stdout",
          "text": [
            "Using 3295 samples for training and 824 for validation\n"
          ]
        }
      ]
    },
    {
      "cell_type": "code",
      "source": [
        "label_lookup = keras.layers.StringLookup(\n",
        "    # the order here is important since the first index will be encoded as 0\n",
        "    vocabulary=[\"no\", \"yes\"],\n",
        "    num_oov_indices=0,\n",
        ")\n",
        "\n",
        "\n",
        "def encode_label(x, y):\n",
        "    encoded_y = label_lookup(y)\n",
        "    return x, encoded_y\n",
        "\n",
        "\n",
        "def dataframe_to_dataset(dataframe):\n",
        "    dataframe = dataframe.copy()\n",
        "    labels = dataframe.pop(\"y\")\n",
        "    ds = tf.data.Dataset.from_tensor_slices((dict(dataframe), labels))\n",
        "    ds = ds.map(encode_label, num_parallel_calls=tf.data.AUTOTUNE)\n",
        "    ds = ds.shuffle(buffer_size=len(dataframe))\n",
        "    return ds\n",
        "\n",
        "\n",
        "train_ds = dataframe_to_dataset(train_dataframe)\n",
        "valid_ds = dataframe_to_dataset(valid_dataframe)"
      ],
      "metadata": {
        "id": "poFYUztsYiYZ"
      },
      "execution_count": 8,
      "outputs": []
    },
    {
      "cell_type": "code",
      "source": [
        "for x, y in dataframe_to_dataset(train_dataframe).take(1):\n",
        "    print(f\"Input: {x}\")\n",
        "    print(f\"Target: {y}\")"
      ],
      "metadata": {
        "colab": {
          "base_uri": "https://localhost:8080/"
        },
        "id": "BJkMZg4EZDls",
        "outputId": "248ff21b-e3e2-4b9c-d3e0-d1c392149021"
      },
      "execution_count": 9,
      "outputs": [
        {
          "output_type": "stream",
          "name": "stdout",
          "text": [
            "Input: {'age': <tf.Tensor: shape=(), dtype=int64, numpy=60>, 'job': <tf.Tensor: shape=(), dtype=string, numpy=b'admin.'>, 'marital': <tf.Tensor: shape=(), dtype=string, numpy=b'married'>, 'education': <tf.Tensor: shape=(), dtype=string, numpy=b'basic.9y'>, 'default': <tf.Tensor: shape=(), dtype=string, numpy=b'no'>, 'housing': <tf.Tensor: shape=(), dtype=string, numpy=b'yes'>, 'loan': <tf.Tensor: shape=(), dtype=string, numpy=b'no'>, 'contact': <tf.Tensor: shape=(), dtype=string, numpy=b'cellular'>, 'month': <tf.Tensor: shape=(), dtype=string, numpy=b'aug'>, 'day_of_week': <tf.Tensor: shape=(), dtype=string, numpy=b'thu'>, 'campaign': <tf.Tensor: shape=(), dtype=int64, numpy=1>, 'pdays': <tf.Tensor: shape=(), dtype=int64, numpy=999>, 'previous': <tf.Tensor: shape=(), dtype=int64, numpy=0>, 'poutcome': <tf.Tensor: shape=(), dtype=string, numpy=b'nonexistent'>, 'emp.var.rate': <tf.Tensor: shape=(), dtype=float64, numpy=1.4>, 'cons.price.idx': <tf.Tensor: shape=(), dtype=float64, numpy=93.444>, 'cons.conf.idx': <tf.Tensor: shape=(), dtype=float64, numpy=-36.1>, 'euribor3m': <tf.Tensor: shape=(), dtype=float64, numpy=4.962>, 'nr.employed': <tf.Tensor: shape=(), dtype=float64, numpy=5228.1>, 'previously_contacted': <tf.Tensor: shape=(), dtype=int64, numpy=0>}\n",
            "Target: 0\n"
          ]
        }
      ]
    },
    {
      "cell_type": "code",
      "source": [
        "train_ds_with_no_labels = train_ds.map(lambda x, _: x)\n",
        "\n",
        "\n",
        "def example_feature_space(dataset, feature_space, feature_names):\n",
        "    feature_space.adapt(dataset)\n",
        "    for x in dataset.take(1):\n",
        "        inputs = {feature_name: x[feature_name] for feature_name in feature_names}\n",
        "        preprocessed_x = feature_space(inputs)\n",
        "        print(f\"Input: {[{k:v.numpy()} for k, v in inputs.items()]}\")\n",
        "        print(\n",
        "            f\"Preprocessed output: {[{k:v.numpy()} for k, v in preprocessed_x.items()]}\"\n",
        "        )"
      ],
      "metadata": {
        "id": "km_piCt9ZNrU"
      },
      "execution_count": 10,
      "outputs": []
    },
    {
      "cell_type": "code",
      "source": [
        "feature_space = FeatureSpace(\n",
        "    features={\n",
        "        \"campaign\": FeatureSpace.integer_hashed(num_bins=4, output_mode=\"one_hot\")\n",
        "    },\n",
        "    output_mode=\"dict\",\n",
        ")\n",
        "example_feature_space(train_ds_with_no_labels, feature_space, [\"campaign\"])"
      ],
      "metadata": {
        "colab": {
          "base_uri": "https://localhost:8080/"
        },
        "id": "aKv5oI0gZq7p",
        "outputId": "f849557e-fdec-4a33-c23d-e596718080ed"
      },
      "execution_count": 11,
      "outputs": [
        {
          "output_type": "stream",
          "name": "stdout",
          "text": [
            "Input: [{'campaign': 3}]\n",
            "Preprocessed output: [{'campaign': array([0., 1., 0., 0.], dtype=float32)}]\n"
          ]
        }
      ]
    },
    {
      "cell_type": "code",
      "source": [
        "feature_space = FeatureSpace(\n",
        "    features={\n",
        "        \"education\": FeatureSpace.string_hashed(num_bins=3, output_mode=\"one_hot\")\n",
        "    },\n",
        "    output_mode=\"dict\",\n",
        ")\n",
        "example_feature_space(train_ds_with_no_labels, feature_space, [\"education\"])"
      ],
      "metadata": {
        "colab": {
          "base_uri": "https://localhost:8080/"
        },
        "id": "r-5oP1X0Zujp",
        "outputId": "e8dbee9e-605c-44bf-d529-b5ad3b45c99e"
      },
      "execution_count": 12,
      "outputs": [
        {
          "output_type": "stream",
          "name": "stdout",
          "text": [
            "Input: [{'education': b'professional.course'}]\n",
            "Preprocessed output: [{'education': array([0., 0., 1.], dtype=float32)}]\n"
          ]
        }
      ]
    },
    {
      "cell_type": "code",
      "source": [
        "feature_space = FeatureSpace(\n",
        "    features={\"age\": FeatureSpace.float_discretized(num_bins=3, output_mode=\"one_hot\")},\n",
        "    output_mode=\"dict\",\n",
        ")\n",
        "example_feature_space(train_ds_with_no_labels, feature_space, [\"age\"])"
      ],
      "metadata": {
        "colab": {
          "base_uri": "https://localhost:8080/"
        },
        "id": "Hh81ywqpZ3tu",
        "outputId": "56de526e-065f-49e0-8a80-a874f99735a5"
      },
      "execution_count": 13,
      "outputs": [
        {
          "output_type": "stream",
          "name": "stdout",
          "text": [
            "Input: [{'age': 48}]\n",
            "Preprocessed output: [{'age': array([0., 0., 1.], dtype=float32)}]\n"
          ]
        }
      ]
    },
    {
      "cell_type": "code",
      "source": [
        "feature_space = FeatureSpace(\n",
        "    features={\n",
        "        \"default\": FeatureSpace.string_categorical(\n",
        "            num_oov_indices=1, output_mode=\"one_hot\"\n",
        "        )\n",
        "    },\n",
        "    output_mode=\"dict\",\n",
        ")\n",
        "example_feature_space(train_ds_with_no_labels, feature_space, [\"default\"])"
      ],
      "metadata": {
        "colab": {
          "base_uri": "https://localhost:8080/"
        },
        "id": "j1G_OKLiZ_SL",
        "outputId": "17151695-f6dc-44e7-bac9-fe16040b5a53"
      },
      "execution_count": 14,
      "outputs": [
        {
          "output_type": "stream",
          "name": "stdout",
          "text": [
            "Input: [{'default': b'no'}]\n",
            "Preprocessed output: [{'default': array([0., 1., 0., 0.], dtype=float32)}]\n"
          ]
        }
      ]
    },
    {
      "cell_type": "code",
      "source": [
        "feature_space = FeatureSpace(\n",
        "    features={\n",
        "        \"previously_contacted\": FeatureSpace.integer_categorical(\n",
        "            num_oov_indices=0, output_mode=\"one_hot\"\n",
        "        )\n",
        "    },\n",
        "    output_mode=\"dict\",\n",
        ")\n",
        "example_feature_space(train_ds_with_no_labels, feature_space, [\"previously_contacted\"])"
      ],
      "metadata": {
        "colab": {
          "base_uri": "https://localhost:8080/"
        },
        "id": "8c94LOvjaR3k",
        "outputId": "729a1d14-6c91-45a8-f80b-7c8ab7a32776"
      },
      "execution_count": 15,
      "outputs": [
        {
          "output_type": "stream",
          "name": "stdout",
          "text": [
            "Input: [{'previously_contacted': 0}]\n",
            "Preprocessed output: [{'previously_contacted': array([1., 0.], dtype=float32)}]\n"
          ]
        }
      ]
    },
    {
      "cell_type": "code",
      "source": [
        "feature_space = FeatureSpace(\n",
        "    features={\n",
        "        \"age\": FeatureSpace.integer_hashed(num_bins=6, output_mode=\"one_hot\"),\n",
        "        \"job\": FeatureSpace.string_categorical(\n",
        "            num_oov_indices=0, output_mode=\"one_hot\"\n",
        "        ),\n",
        "    },\n",
        "    crosses=[\n",
        "        FeatureSpace.cross(\n",
        "            feature_names=(\"age\", \"job\"),\n",
        "            crossing_dim=8,\n",
        "            output_mode=\"one_hot\",\n",
        "        )\n",
        "    ],\n",
        "    output_mode=\"dict\",\n",
        ")\n",
        "example_feature_space(train_ds_with_no_labels, feature_space, [\"age\", \"job\"])"
      ],
      "metadata": {
        "id": "TAcqKZvaaWrN"
      },
      "execution_count": null,
      "outputs": []
    },
    {
      "cell_type": "code",
      "source": [
        "custom_layer = keras.layers.TextVectorization(output_mode=\"tf_idf\")\n",
        "\n",
        "feature_space = FeatureSpace(\n",
        "    features={\n",
        "        \"education\": FeatureSpace.feature(\n",
        "            preprocessor=custom_layer, dtype=\"string\", output_mode=\"float\"\n",
        "        )\n",
        "    },\n",
        "    output_mode=\"dict\",\n",
        ")\n",
        "example_feature_space(train_ds_with_no_labels, feature_space, [\"education\"])"
      ],
      "metadata": {
        "colab": {
          "base_uri": "https://localhost:8080/"
        },
        "id": "wssCpnOfbYoy",
        "outputId": "78e6cf33-a924-4583-847f-9fa91d3620ee"
      },
      "execution_count": 16,
      "outputs": [
        {
          "output_type": "stream",
          "name": "stdout",
          "text": [
            "Input: [{'education': b'university.degree'}]\n",
            "Preprocessed output: [{'education': array([0.       , 1.4574516, 0.       , 0.       , 0.       , 0.       ,\n",
            "       0.       , 0.       , 0.       ], dtype=float32)}]\n"
          ]
        }
      ]
    },
    {
      "cell_type": "code",
      "source": [
        "feature_space = FeatureSpace(\n",
        "    features={\n",
        "        # Categorical features encoded as integers\n",
        "        \"previously_contacted\": FeatureSpace.integer_categorical(num_oov_indices=0),\n",
        "        # Categorical features encoded as string\n",
        "        \"marital\": FeatureSpace.string_categorical(num_oov_indices=0),\n",
        "        \"education\": FeatureSpace.string_categorical(num_oov_indices=0),\n",
        "        \"default\": FeatureSpace.string_categorical(num_oov_indices=0),\n",
        "        \"housing\": FeatureSpace.string_categorical(num_oov_indices=0),\n",
        "        \"loan\": FeatureSpace.string_categorical(num_oov_indices=0),\n",
        "        \"contact\": FeatureSpace.string_categorical(num_oov_indices=0),\n",
        "        \"month\": FeatureSpace.string_categorical(num_oov_indices=0),\n",
        "        \"day_of_week\": FeatureSpace.string_categorical(num_oov_indices=0),\n",
        "        \"poutcome\": FeatureSpace.string_categorical(num_oov_indices=0),\n",
        "        # Categorical features to hash and bin\n",
        "        \"job\": FeatureSpace.string_hashed(num_bins=3),\n",
        "        # Numerical features to hash and bin\n",
        "        \"pdays\": FeatureSpace.integer_hashed(num_bins=4),\n",
        "        # Numerical features to normalize and bin\n",
        "        \"age\": FeatureSpace.float_discretized(num_bins=4),\n",
        "        # Numerical features to normalize\n",
        "        \"campaign\": FeatureSpace.float_normalized(),\n",
        "        \"previous\": FeatureSpace.float_normalized(),\n",
        "        \"emp.var.rate\": FeatureSpace.float_normalized(),\n",
        "        \"cons.price.idx\": FeatureSpace.float_normalized(),\n",
        "        \"cons.conf.idx\": FeatureSpace.float_normalized(),\n",
        "        \"euribor3m\": FeatureSpace.float_normalized(),\n",
        "        \"nr.employed\": FeatureSpace.float_normalized(),\n",
        "    },\n",
        "    # Specify feature cross with a custom crossing dim.\n",
        "    crosses=[\n",
        "        FeatureSpace.cross(feature_names=(\"age\", \"job\"), crossing_dim=8),\n",
        "        FeatureSpace.cross(feature_names=(\"housing\", \"loan\"), crossing_dim=6),\n",
        "        FeatureSpace.cross(\n",
        "            feature_names=(\"poutcome\", \"previously_contacted\"), crossing_dim=2\n",
        "        ),\n",
        "    ],\n",
        "    output_mode=\"concat\",\n",
        ")"
      ],
      "metadata": {
        "id": "Rb82ZvprbZHp"
      },
      "execution_count": 17,
      "outputs": []
    },
    {
      "cell_type": "code",
      "source": [
        "train_ds = train_ds.batch(32)\n",
        "valid_ds = valid_ds.batch(32)\n",
        "\n",
        "train_ds_with_no_labels = train_ds.map(lambda x, _: x)\n",
        "feature_space.adapt(train_ds_with_no_labels)"
      ],
      "metadata": {
        "id": "z3MhmkGLbpGT"
      },
      "execution_count": 18,
      "outputs": []
    },
    {
      "cell_type": "code",
      "source": [
        "for x, _ in train_ds.take(1):\n",
        "    preprocessed_x = feature_space(x)\n",
        "    print(f\"preprocessed_x shape: {preprocessed_x.shape}\")\n",
        "    print(f\"preprocessed_x sample: \\n{preprocessed_x[0]}\")"
      ],
      "metadata": {
        "colab": {
          "base_uri": "https://localhost:8080/"
        },
        "id": "N7Oo6PIabsh_",
        "outputId": "29681524-b4e7-4107-f7f5-46842d223fe6"
      },
      "execution_count": 19,
      "outputs": [
        {
          "output_type": "stream",
          "name": "stdout",
          "text": [
            "preprocessed_x shape: (32, 77)\n",
            "preprocessed_x sample: \n",
            "[ 1.          0.          0.          0.         -0.58789206  1.5033054\n",
            " -1.9100648   1.          0.          0.          0.          0.\n",
            "  1.          0.          1.          0.          0.          0.\n",
            "  1.          0.          0.          0.          0.          0.\n",
            "  0.         -1.9028114  -1.4860481   0.          1.          0.\n",
            "  0.          1.          0.          1.          0.          0.\n",
            "  0.          1.          0.          0.          0.          1.\n",
            "  0.          0.          0.          0.          0.          0.\n",
            "  0.          0.         -1.2171593   0.          0.          1.\n",
            "  0.          0.          1.          0.          1.4951228   1.\n",
            "  0.          0.          0.          0.          1.          0.\n",
            "  0.          0.          0.          0.          0.          0.\n",
            "  0.          0.          1.          0.          1.        ]\n"
          ]
        }
      ]
    },
    {
      "cell_type": "code",
      "source": [
        "feature_space.save(\"myfeaturespace.keras\")"
      ],
      "metadata": {
        "id": "rr-tTcJ9bwBu"
      },
      "execution_count": 20,
      "outputs": []
    },
    {
      "cell_type": "code",
      "source": [
        "preprocessed_train_ds = train_ds.map(\n",
        "    lambda x, y: (feature_space(x), y), num_parallel_calls=tf.data.AUTOTUNE\n",
        ").prefetch(tf.data.AUTOTUNE)\n",
        "\n",
        "preprocessed_valid_ds = valid_ds.map(\n",
        "    lambda x, y: (feature_space(x), y), num_parallel_calls=tf.data.AUTOTUNE\n",
        ").prefetch(tf.data.AUTOTUNE)"
      ],
      "metadata": {
        "id": "C8vmDpaKbzvD"
      },
      "execution_count": 21,
      "outputs": []
    },
    {
      "cell_type": "code",
      "source": [
        "encoded_features = feature_space.get_encoded_features()\n",
        "print(encoded_features)"
      ],
      "metadata": {
        "colab": {
          "base_uri": "https://localhost:8080/"
        },
        "id": "Sz08qNBib3G3",
        "outputId": "fbf8fc87-b513-4638-c914-a88598e56e01"
      },
      "execution_count": 22,
      "outputs": [
        {
          "output_type": "stream",
          "name": "stdout",
          "text": [
            "<KerasTensor shape=(None, 77), dtype=float32, sparse=False, name=keras_tensor_50>\n"
          ]
        }
      ]
    },
    {
      "cell_type": "code",
      "source": [
        "x = keras.layers.Dense(64, activation=\"relu\")(encoded_features)\n",
        "x = keras.layers.Dropout(0.5)(x)\n",
        "output = keras.layers.Dense(1, activation=\"sigmoid\")(x)\n",
        "\n",
        "model = keras.Model(inputs=encoded_features, outputs=output)\n",
        "model.compile(optimizer=\"adam\", loss=\"binary_crossentropy\", metrics=[\"accuracy\"])"
      ],
      "metadata": {
        "id": "AnGXRmGMb7hp"
      },
      "execution_count": 23,
      "outputs": []
    },
    {
      "cell_type": "code",
      "source": [
        "model.fit(\n",
        "    preprocessed_train_ds, validation_data=preprocessed_valid_ds, epochs=20, verbose=2\n",
        ")"
      ],
      "metadata": {
        "colab": {
          "base_uri": "https://localhost:8080/"
        },
        "id": "q7ARWvkLb-9Z",
        "outputId": "e11aa77b-6354-4024-94c3-b192ee439927"
      },
      "execution_count": 24,
      "outputs": [
        {
          "output_type": "stream",
          "name": "stdout",
          "text": [
            "Epoch 1/20\n",
            "103/103 - 6s - 54ms/step - accuracy: 0.8580 - loss: 0.3838 - val_accuracy: 0.9138 - val_loss: 0.2610\n",
            "Epoch 2/20\n",
            "103/103 - 1s - 7ms/step - accuracy: 0.8920 - loss: 0.3136 - val_accuracy: 0.9126 - val_loss: 0.2608\n",
            "Epoch 3/20\n",
            "103/103 - 1s - 12ms/step - accuracy: 0.8962 - loss: 0.2973 - val_accuracy: 0.9041 - val_loss: 0.2632\n",
            "Epoch 4/20\n",
            "103/103 - 1s - 8ms/step - accuracy: 0.9017 - loss: 0.2928 - val_accuracy: 0.9053 - val_loss: 0.2636\n",
            "Epoch 5/20\n",
            "103/103 - 2s - 16ms/step - accuracy: 0.8971 - loss: 0.2984 - val_accuracy: 0.9078 - val_loss: 0.2660\n",
            "Epoch 6/20\n",
            "103/103 - 1s - 9ms/step - accuracy: 0.9002 - loss: 0.2865 - val_accuracy: 0.9078 - val_loss: 0.2673\n",
            "Epoch 7/20\n",
            "103/103 - 1s - 7ms/step - accuracy: 0.9041 - loss: 0.2839 - val_accuracy: 0.9078 - val_loss: 0.2631\n",
            "Epoch 8/20\n",
            "103/103 - 1s - 12ms/step - accuracy: 0.9020 - loss: 0.2816 - val_accuracy: 0.9102 - val_loss: 0.2623\n",
            "Epoch 9/20\n",
            "103/103 - 1s - 12ms/step - accuracy: 0.8992 - loss: 0.2806 - val_accuracy: 0.9102 - val_loss: 0.2624\n",
            "Epoch 10/20\n",
            "103/103 - 1s - 7ms/step - accuracy: 0.9011 - loss: 0.2784 - val_accuracy: 0.9102 - val_loss: 0.2627\n",
            "Epoch 11/20\n",
            "103/103 - 1s - 13ms/step - accuracy: 0.9050 - loss: 0.2772 - val_accuracy: 0.9126 - val_loss: 0.2637\n",
            "Epoch 12/20\n",
            "103/103 - 1s - 7ms/step - accuracy: 0.9035 - loss: 0.2782 - val_accuracy: 0.9090 - val_loss: 0.2632\n",
            "Epoch 13/20\n",
            "103/103 - 1s - 7ms/step - accuracy: 0.9059 - loss: 0.2728 - val_accuracy: 0.9114 - val_loss: 0.2647\n",
            "Epoch 14/20\n",
            "103/103 - 1s - 12ms/step - accuracy: 0.9008 - loss: 0.2750 - val_accuracy: 0.9102 - val_loss: 0.2644\n",
            "Epoch 15/20\n",
            "103/103 - 1s - 7ms/step - accuracy: 0.9035 - loss: 0.2780 - val_accuracy: 0.9078 - val_loss: 0.2643\n",
            "Epoch 16/20\n",
            "103/103 - 1s - 7ms/step - accuracy: 0.9020 - loss: 0.2735 - val_accuracy: 0.9102 - val_loss: 0.2646\n",
            "Epoch 17/20\n",
            "103/103 - 1s - 12ms/step - accuracy: 0.9041 - loss: 0.2703 - val_accuracy: 0.9102 - val_loss: 0.2628\n",
            "Epoch 18/20\n",
            "103/103 - 1s - 12ms/step - accuracy: 0.9071 - loss: 0.2689 - val_accuracy: 0.9102 - val_loss: 0.2645\n",
            "Epoch 19/20\n",
            "103/103 - 1s - 9ms/step - accuracy: 0.9086 - loss: 0.2636 - val_accuracy: 0.9090 - val_loss: 0.2639\n",
            "Epoch 20/20\n",
            "103/103 - 1s - 10ms/step - accuracy: 0.9080 - loss: 0.2650 - val_accuracy: 0.9090 - val_loss: 0.2662\n"
          ]
        },
        {
          "output_type": "execute_result",
          "data": {
            "text/plain": [
              "<keras.src.callbacks.history.History at 0x7d5c00114850>"
            ]
          },
          "metadata": {},
          "execution_count": 24
        }
      ]
    },
    {
      "cell_type": "code",
      "source": [
        "loaded_feature_space = keras.saving.load_model(\"myfeaturespace.keras\")"
      ],
      "metadata": {
        "id": "LfLC4JcVcB6G"
      },
      "execution_count": 25,
      "outputs": []
    },
    {
      "cell_type": "code",
      "source": [
        "dict_inputs = loaded_feature_space.get_inputs()\n",
        "encoded_features = loaded_feature_space.get_encoded_features()\n",
        "print(encoded_features)\n",
        "\n",
        "print(dict_inputs)\n",
        "\n",
        "outputs = model(encoded_features)\n",
        "inference_model = keras.Model(inputs=dict_inputs, outputs=outputs)\n",
        "\n",
        "sample = {\n",
        "    \"age\": 60,\n",
        "    \"job\": \"blue-collar\",\n",
        "    \"marital\": \"married\",\n",
        "    \"education\": \"basic.9y\",\n",
        "    \"default\": \"no\",\n",
        "    \"housing\": \"yes\",\n",
        "    \"loan\": \"no\",\n",
        "    \"contact\": \"cellular\",\n",
        "    \"month\": \"may\",\n",
        "    \"day_of_week\": \"fri\",\n",
        "    \"campaign\": 2,\n",
        "    \"pdays\": 999,\n",
        "    \"previous\": 0,\n",
        "    \"poutcome\": \"nonexistent\",\n",
        "    \"emp.var.rate\": -1.8,\n",
        "    \"cons.price.idx\": 92.893,\n",
        "    \"cons.conf.idx\": -46.2,\n",
        "    \"euribor3m\": 1.313,\n",
        "    \"nr.employed\": 5099.1,\n",
        "    \"previously_contacted\": 0,\n",
        "}\n",
        "\n",
        "input_dict = {\n",
        "    name: keras.ops.convert_to_tensor([value]) for name, value in sample.items()\n",
        "}\n",
        "predictions = inference_model.predict(input_dict)\n",
        "\n",
        "print(\n",
        "    f\"This particular client has a {100 * predictions[0][0]:.2f}% probability \"\n",
        "    \"of subscribing a term deposit, as evaluated by our model.\"\n",
        ")"
      ],
      "metadata": {
        "colab": {
          "base_uri": "https://localhost:8080/"
        },
        "id": "QqzKjp5VcNht",
        "outputId": "356b6c0e-999b-4797-9f70-8c6a156596c8"
      },
      "execution_count": 27,
      "outputs": [
        {
          "output_type": "stream",
          "name": "stdout",
          "text": [
            "<KerasTensor shape=(None, 77), dtype=float32, sparse=False, name=keras_tensor_93>\n",
            "{'previously_contacted': <KerasTensor shape=(None, 1), dtype=int32, sparse=None, name=previously_contacted>, 'marital': <KerasTensor shape=(None, 1), dtype=string, sparse=None, name=marital>, 'education': <KerasTensor shape=(None, 1), dtype=string, sparse=None, name=education>, 'default': <KerasTensor shape=(None, 1), dtype=string, sparse=None, name=default>, 'housing': <KerasTensor shape=(None, 1), dtype=string, sparse=None, name=housing>, 'loan': <KerasTensor shape=(None, 1), dtype=string, sparse=None, name=loan>, 'contact': <KerasTensor shape=(None, 1), dtype=string, sparse=None, name=contact>, 'month': <KerasTensor shape=(None, 1), dtype=string, sparse=None, name=month>, 'day_of_week': <KerasTensor shape=(None, 1), dtype=string, sparse=None, name=day_of_week>, 'poutcome': <KerasTensor shape=(None, 1), dtype=string, sparse=None, name=poutcome>, 'job': <KerasTensor shape=(None, 1), dtype=string, sparse=None, name=job>, 'pdays': <KerasTensor shape=(None, 1), dtype=int32, sparse=None, name=pdays>, 'age': <KerasTensor shape=(None, 1), dtype=float32, sparse=None, name=age>, 'campaign': <KerasTensor shape=(None, 1), dtype=float32, sparse=None, name=campaign>, 'previous': <KerasTensor shape=(None, 1), dtype=float32, sparse=None, name=previous>, 'emp.var.rate': <KerasTensor shape=(None, 1), dtype=float32, sparse=None, name=emp.var.rate>, 'cons.price.idx': <KerasTensor shape=(None, 1), dtype=float32, sparse=None, name=cons.price.idx>, 'cons.conf.idx': <KerasTensor shape=(None, 1), dtype=float32, sparse=None, name=cons.conf.idx>, 'euribor3m': <KerasTensor shape=(None, 1), dtype=float32, sparse=None, name=euribor3m>, 'nr.employed': <KerasTensor shape=(None, 1), dtype=float32, sparse=None, name=nr.employed>}\n",
            "\u001b[1m1/1\u001b[0m \u001b[32m━━━━━━━━━━━━━━━━━━━━\u001b[0m\u001b[37m\u001b[0m \u001b[1m1s\u001b[0m 971ms/step\n",
            "This particular client has a 11.19% probability of subscribing a term deposit, as evaluated by our model.\n"
          ]
        }
      ]
    },
    {
      "cell_type": "code",
      "source": [],
      "metadata": {
        "id": "2vtbh5MZcQ82"
      },
      "execution_count": null,
      "outputs": []
    }
  ]
}
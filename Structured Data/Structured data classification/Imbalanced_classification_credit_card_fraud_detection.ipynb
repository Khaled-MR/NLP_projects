{
  "nbformat": 4,
  "nbformat_minor": 0,
  "metadata": {
    "colab": {
      "provenance": []
    },
    "kernelspec": {
      "name": "python3",
      "display_name": "Python 3"
    },
    "language_info": {
      "name": "python"
    }
  },
  "cells": [
    {
      "cell_type": "code",
      "execution_count": 3,
      "metadata": {
        "colab": {
          "base_uri": "https://localhost:8080/"
        },
        "id": "0ixklKBgcr0L",
        "outputId": "c25628ff-076d-45ed-c7a8-f596c1fd4edf"
      },
      "outputs": [
        {
          "output_type": "stream",
          "name": "stdout",
          "text": [
            "HEADER: \"Time\",\"V1\",\"V2\",\"V3\",\"V4\",\"V5\",\"V6\",\"V7\",\"V8\",\"V9\",\"V10\",\"V11\",\"V12\",\"V13\",\"V14\",\"V15\",\"V16\",\"V17\",\"V18\",\"V19\",\"V20\",\"V21\",\"V22\",\"V23\",\"V24\",\"V25\",\"V26\",\"V27\",\"V28\",\"Amount\",\"Class\"\n",
            "EXAMPLE FEATURES: [0.0, -1.3598071336738, -0.0727811733098497, 2.53634673796914, 1.37815522427443, -0.338320769942518, 0.462387777762292, 0.239598554061257, 0.0986979012610507, 0.363786969611213, 0.0907941719789316, -0.551599533260813, -0.617800855762348, -0.991389847235408, -0.311169353699879, 1.46817697209427, -0.470400525259478, 0.207971241929242, 0.0257905801985591, 0.403992960255733, 0.251412098239705, -0.018306777944153, 0.277837575558899, -0.110473910188767, 0.0669280749146731, 0.128539358273528, -0.189114843888824, 0.133558376740387, -0.0210530534538215, 149.62]\n",
            "features.shape: (284807, 30)\n",
            "targets.shape: (284807, 1)\n"
          ]
        }
      ],
      "source": [
        "import csv\n",
        "import numpy as np\n",
        "\n",
        "# Get the real data from https://www.kaggle.com/mlg-ulb/creditcardfraud/\n",
        "fname = \"/content/creditcard.csv\"\n",
        "\n",
        "all_features = []\n",
        "all_targets = []\n",
        "with open(fname) as f:\n",
        "    for i, line in enumerate(f):\n",
        "        if i == 0:\n",
        "            print(\"HEADER:\", line.strip())\n",
        "            continue  # Skip header\n",
        "        fields = line.strip().split(\",\")\n",
        "        all_features.append([float(v.replace('\"', \"\")) for v in fields[:-1]])\n",
        "        all_targets.append([int(fields[-1].replace('\"', \"\"))])\n",
        "        if i == 1:\n",
        "            print(\"EXAMPLE FEATURES:\", all_features[-1])\n",
        "\n",
        "features = np.array(all_features, dtype=\"float32\")\n",
        "targets = np.array(all_targets, dtype=\"uint8\")\n",
        "print(\"features.shape:\", features.shape)\n",
        "print(\"targets.shape:\", targets.shape)"
      ]
    },
    {
      "cell_type": "code",
      "source": [
        "num_val_samples = int(len(features) * 0.2)\n",
        "train_features = features[:-num_val_samples]\n",
        "train_targets = targets[:-num_val_samples]\n",
        "val_features = features[-num_val_samples:]\n",
        "val_targets = targets[-num_val_samples:]\n",
        "\n",
        "print(\"Number of training samples:\", len(train_features))\n",
        "print(\"Number of validation samples:\", len(val_features))"
      ],
      "metadata": {
        "colab": {
          "base_uri": "https://localhost:8080/"
        },
        "id": "iRA8NPEWcz4Q",
        "outputId": "b0d55d71-88d9-4087-bcf5-429aea588a8d"
      },
      "execution_count": 4,
      "outputs": [
        {
          "output_type": "stream",
          "name": "stdout",
          "text": [
            "Number of training samples: 227846\n",
            "Number of validation samples: 56961\n"
          ]
        }
      ]
    },
    {
      "cell_type": "code",
      "source": [
        "counts = np.bincount(train_targets[:, 0])\n",
        "print(\n",
        "    \"Number of positive samples in training data: {} ({:.2f}% of total)\".format(\n",
        "        counts[1], 100 * float(counts[1]) / len(train_targets)\n",
        "    )\n",
        ")\n",
        "\n",
        "weight_for_0 = 1.0 / counts[0]\n",
        "weight_for_1 = 1.0 / counts[1]"
      ],
      "metadata": {
        "colab": {
          "base_uri": "https://localhost:8080/"
        },
        "id": "8dlzxpgMfzWG",
        "outputId": "96398983-90c2-4089-8f8b-cae2608f4379"
      },
      "execution_count": 5,
      "outputs": [
        {
          "output_type": "stream",
          "name": "stdout",
          "text": [
            "Number of positive samples in training data: 417 (0.18% of total)\n"
          ]
        }
      ]
    },
    {
      "cell_type": "code",
      "source": [
        "mean = np.mean(train_features, axis=0)\n",
        "train_features -= mean\n",
        "val_features -= mean\n",
        "std = np.std(train_features, axis=0)\n",
        "train_features /= std\n",
        "val_features /= std"
      ],
      "metadata": {
        "id": "o4yCjO4qgGDP"
      },
      "execution_count": 6,
      "outputs": []
    },
    {
      "cell_type": "code",
      "source": [
        "import keras\n",
        "\n",
        "model = keras.Sequential(\n",
        "    [\n",
        "        keras.Input(shape=train_features.shape[1:]),\n",
        "        keras.layers.Dense(256, activation=\"relu\"),\n",
        "        keras.layers.Dense(256, activation=\"relu\"),\n",
        "        keras.layers.Dropout(0.3),\n",
        "        keras.layers.Dense(256, activation=\"relu\"),\n",
        "        keras.layers.Dropout(0.3),\n",
        "        keras.layers.Dense(1, activation=\"sigmoid\"),\n",
        "    ]\n",
        ")\n",
        "model.summary()"
      ],
      "metadata": {
        "colab": {
          "base_uri": "https://localhost:8080/",
          "height": 321
        },
        "id": "vbeAkFEvgJxb",
        "outputId": "0c1480e4-c372-4ca9-cbda-c893cf8cebd0"
      },
      "execution_count": 7,
      "outputs": [
        {
          "output_type": "display_data",
          "data": {
            "text/plain": [
              "\u001b[1mModel: \"sequential\"\u001b[0m\n"
            ],
            "text/html": [
              "<pre style=\"white-space:pre;overflow-x:auto;line-height:normal;font-family:Menlo,'DejaVu Sans Mono',consolas,'Courier New',monospace\"><span style=\"font-weight: bold\">Model: \"sequential\"</span>\n",
              "</pre>\n"
            ]
          },
          "metadata": {}
        },
        {
          "output_type": "display_data",
          "data": {
            "text/plain": [
              "┏━━━━━━━━━━━━━━━━━━━━━━━━━━━━━━━━━━━━━━┳━━━━━━━━━━━━━━━━━━━━━━━━━━━━━┳━━━━━━━━━━━━━━━━━┓\n",
              "┃\u001b[1m \u001b[0m\u001b[1mLayer (type)                        \u001b[0m\u001b[1m \u001b[0m┃\u001b[1m \u001b[0m\u001b[1mOutput Shape               \u001b[0m\u001b[1m \u001b[0m┃\u001b[1m \u001b[0m\u001b[1m        Param #\u001b[0m\u001b[1m \u001b[0m┃\n",
              "┡━━━━━━━━━━━━━━━━━━━━━━━━━━━━━━━━━━━━━━╇━━━━━━━━━━━━━━━━━━━━━━━━━━━━━╇━━━━━━━━━━━━━━━━━┩\n",
              "│ dense (\u001b[38;5;33mDense\u001b[0m)                        │ (\u001b[38;5;45mNone\u001b[0m, \u001b[38;5;34m256\u001b[0m)                 │           \u001b[38;5;34m7,936\u001b[0m │\n",
              "├──────────────────────────────────────┼─────────────────────────────┼─────────────────┤\n",
              "│ dense_1 (\u001b[38;5;33mDense\u001b[0m)                      │ (\u001b[38;5;45mNone\u001b[0m, \u001b[38;5;34m256\u001b[0m)                 │          \u001b[38;5;34m65,792\u001b[0m │\n",
              "├──────────────────────────────────────┼─────────────────────────────┼─────────────────┤\n",
              "│ dropout (\u001b[38;5;33mDropout\u001b[0m)                    │ (\u001b[38;5;45mNone\u001b[0m, \u001b[38;5;34m256\u001b[0m)                 │               \u001b[38;5;34m0\u001b[0m │\n",
              "├──────────────────────────────────────┼─────────────────────────────┼─────────────────┤\n",
              "│ dense_2 (\u001b[38;5;33mDense\u001b[0m)                      │ (\u001b[38;5;45mNone\u001b[0m, \u001b[38;5;34m256\u001b[0m)                 │          \u001b[38;5;34m65,792\u001b[0m │\n",
              "├──────────────────────────────────────┼─────────────────────────────┼─────────────────┤\n",
              "│ dropout_1 (\u001b[38;5;33mDropout\u001b[0m)                  │ (\u001b[38;5;45mNone\u001b[0m, \u001b[38;5;34m256\u001b[0m)                 │               \u001b[38;5;34m0\u001b[0m │\n",
              "├──────────────────────────────────────┼─────────────────────────────┼─────────────────┤\n",
              "│ dense_3 (\u001b[38;5;33mDense\u001b[0m)                      │ (\u001b[38;5;45mNone\u001b[0m, \u001b[38;5;34m1\u001b[0m)                   │             \u001b[38;5;34m257\u001b[0m │\n",
              "└──────────────────────────────────────┴─────────────────────────────┴─────────────────┘\n"
            ],
            "text/html": [
              "<pre style=\"white-space:pre;overflow-x:auto;line-height:normal;font-family:Menlo,'DejaVu Sans Mono',consolas,'Courier New',monospace\">┏━━━━━━━━━━━━━━━━━━━━━━━━━━━━━━━━━━━━━━┳━━━━━━━━━━━━━━━━━━━━━━━━━━━━━┳━━━━━━━━━━━━━━━━━┓\n",
              "┃<span style=\"font-weight: bold\"> Layer (type)                         </span>┃<span style=\"font-weight: bold\"> Output Shape                </span>┃<span style=\"font-weight: bold\">         Param # </span>┃\n",
              "┡━━━━━━━━━━━━━━━━━━━━━━━━━━━━━━━━━━━━━━╇━━━━━━━━━━━━━━━━━━━━━━━━━━━━━╇━━━━━━━━━━━━━━━━━┩\n",
              "│ dense (<span style=\"color: #0087ff; text-decoration-color: #0087ff\">Dense</span>)                        │ (<span style=\"color: #00d7ff; text-decoration-color: #00d7ff\">None</span>, <span style=\"color: #00af00; text-decoration-color: #00af00\">256</span>)                 │           <span style=\"color: #00af00; text-decoration-color: #00af00\">7,936</span> │\n",
              "├──────────────────────────────────────┼─────────────────────────────┼─────────────────┤\n",
              "│ dense_1 (<span style=\"color: #0087ff; text-decoration-color: #0087ff\">Dense</span>)                      │ (<span style=\"color: #00d7ff; text-decoration-color: #00d7ff\">None</span>, <span style=\"color: #00af00; text-decoration-color: #00af00\">256</span>)                 │          <span style=\"color: #00af00; text-decoration-color: #00af00\">65,792</span> │\n",
              "├──────────────────────────────────────┼─────────────────────────────┼─────────────────┤\n",
              "│ dropout (<span style=\"color: #0087ff; text-decoration-color: #0087ff\">Dropout</span>)                    │ (<span style=\"color: #00d7ff; text-decoration-color: #00d7ff\">None</span>, <span style=\"color: #00af00; text-decoration-color: #00af00\">256</span>)                 │               <span style=\"color: #00af00; text-decoration-color: #00af00\">0</span> │\n",
              "├──────────────────────────────────────┼─────────────────────────────┼─────────────────┤\n",
              "│ dense_2 (<span style=\"color: #0087ff; text-decoration-color: #0087ff\">Dense</span>)                      │ (<span style=\"color: #00d7ff; text-decoration-color: #00d7ff\">None</span>, <span style=\"color: #00af00; text-decoration-color: #00af00\">256</span>)                 │          <span style=\"color: #00af00; text-decoration-color: #00af00\">65,792</span> │\n",
              "├──────────────────────────────────────┼─────────────────────────────┼─────────────────┤\n",
              "│ dropout_1 (<span style=\"color: #0087ff; text-decoration-color: #0087ff\">Dropout</span>)                  │ (<span style=\"color: #00d7ff; text-decoration-color: #00d7ff\">None</span>, <span style=\"color: #00af00; text-decoration-color: #00af00\">256</span>)                 │               <span style=\"color: #00af00; text-decoration-color: #00af00\">0</span> │\n",
              "├──────────────────────────────────────┼─────────────────────────────┼─────────────────┤\n",
              "│ dense_3 (<span style=\"color: #0087ff; text-decoration-color: #0087ff\">Dense</span>)                      │ (<span style=\"color: #00d7ff; text-decoration-color: #00d7ff\">None</span>, <span style=\"color: #00af00; text-decoration-color: #00af00\">1</span>)                   │             <span style=\"color: #00af00; text-decoration-color: #00af00\">257</span> │\n",
              "└──────────────────────────────────────┴─────────────────────────────┴─────────────────┘\n",
              "</pre>\n"
            ]
          },
          "metadata": {}
        },
        {
          "output_type": "display_data",
          "data": {
            "text/plain": [
              "\u001b[1m Total params: \u001b[0m\u001b[38;5;34m139,777\u001b[0m (546.00 KB)\n"
            ],
            "text/html": [
              "<pre style=\"white-space:pre;overflow-x:auto;line-height:normal;font-family:Menlo,'DejaVu Sans Mono',consolas,'Courier New',monospace\"><span style=\"font-weight: bold\"> Total params: </span><span style=\"color: #00af00; text-decoration-color: #00af00\">139,777</span> (546.00 KB)\n",
              "</pre>\n"
            ]
          },
          "metadata": {}
        },
        {
          "output_type": "display_data",
          "data": {
            "text/plain": [
              "\u001b[1m Trainable params: \u001b[0m\u001b[38;5;34m139,777\u001b[0m (546.00 KB)\n"
            ],
            "text/html": [
              "<pre style=\"white-space:pre;overflow-x:auto;line-height:normal;font-family:Menlo,'DejaVu Sans Mono',consolas,'Courier New',monospace\"><span style=\"font-weight: bold\"> Trainable params: </span><span style=\"color: #00af00; text-decoration-color: #00af00\">139,777</span> (546.00 KB)\n",
              "</pre>\n"
            ]
          },
          "metadata": {}
        },
        {
          "output_type": "display_data",
          "data": {
            "text/plain": [
              "\u001b[1m Non-trainable params: \u001b[0m\u001b[38;5;34m0\u001b[0m (0.00 B)\n"
            ],
            "text/html": [
              "<pre style=\"white-space:pre;overflow-x:auto;line-height:normal;font-family:Menlo,'DejaVu Sans Mono',consolas,'Courier New',monospace\"><span style=\"font-weight: bold\"> Non-trainable params: </span><span style=\"color: #00af00; text-decoration-color: #00af00\">0</span> (0.00 B)\n",
              "</pre>\n"
            ]
          },
          "metadata": {}
        }
      ]
    },
    {
      "cell_type": "code",
      "source": [
        "metrics = [\n",
        "    keras.metrics.FalseNegatives(name=\"fn\"),\n",
        "    keras.metrics.FalsePositives(name=\"fp\"),\n",
        "    keras.metrics.TrueNegatives(name=\"tn\"),\n",
        "    keras.metrics.TruePositives(name=\"tp\"),\n",
        "    keras.metrics.Precision(name=\"precision\"),\n",
        "    keras.metrics.Recall(name=\"recall\"),\n",
        "]\n",
        "\n",
        "model.compile(\n",
        "    optimizer=keras.optimizers.Adam(1e-2), loss=\"binary_crossentropy\", metrics=metrics\n",
        ")\n",
        "\n",
        "callbacks = [keras.callbacks.ModelCheckpoint(\"fraud_model_at_epoch_{epoch}.keras\")]\n",
        "class_weight = {0: weight_for_0, 1: weight_for_1}\n",
        "\n",
        "model.fit(\n",
        "    train_features,\n",
        "    train_targets,\n",
        "    batch_size=2048,\n",
        "    epochs=30,\n",
        "    verbose=2,\n",
        "    callbacks=callbacks,\n",
        "    validation_data=(val_features, val_targets),\n",
        "    class_weight=class_weight,\n",
        ")"
      ],
      "metadata": {
        "colab": {
          "base_uri": "https://localhost:8080/"
        },
        "id": "Ht35z0LhgOgm",
        "outputId": "90f384d7-c623-4ff9-daca-a8c2154eeb3d"
      },
      "execution_count": 8,
      "outputs": [
        {
          "output_type": "stream",
          "name": "stdout",
          "text": [
            "Epoch 1/30\n",
            "112/112 - 11s - 100ms/step - fn: 47.0000 - fp: 25492.0000 - loss: 2.3805e-06 - precision: 0.0143 - recall: 0.8873 - tn: 201937.0000 - tp: 370.0000 - val_fn: 10.0000 - val_fp: 990.0000 - val_loss: 0.1094 - val_precision: 0.0616 - val_recall: 0.8667 - val_tn: 55896.0000 - val_tp: 65.0000\n",
            "Epoch 2/30\n",
            "112/112 - 8s - 69ms/step - fn: 35.0000 - fp: 7306.0000 - loss: 1.4782e-06 - precision: 0.0497 - recall: 0.9161 - tn: 220123.0000 - tp: 382.0000 - val_fn: 4.0000 - val_fp: 5375.0000 - val_loss: 0.2455 - val_precision: 0.0130 - val_recall: 0.9467 - val_tn: 51511.0000 - val_tp: 71.0000\n",
            "Epoch 3/30\n",
            "112/112 - 10s - 88ms/step - fn: 36.0000 - fp: 7549.0000 - loss: 1.3210e-06 - precision: 0.0480 - recall: 0.9137 - tn: 219880.0000 - tp: 381.0000 - val_fn: 9.0000 - val_fp: 571.0000 - val_loss: 0.0392 - val_precision: 0.1036 - val_recall: 0.8800 - val_tn: 56315.0000 - val_tp: 66.0000\n",
            "Epoch 4/30\n",
            "112/112 - 10s - 92ms/step - fn: 26.0000 - fp: 6641.0000 - loss: 1.0162e-06 - precision: 0.0556 - recall: 0.9376 - tn: 220788.0000 - tp: 391.0000 - val_fn: 8.0000 - val_fp: 1426.0000 - val_loss: 0.1001 - val_precision: 0.0449 - val_recall: 0.8933 - val_tn: 55460.0000 - val_tp: 67.0000\n",
            "Epoch 5/30\n",
            "112/112 - 6s - 53ms/step - fn: 19.0000 - fp: 7900.0000 - loss: 8.7718e-07 - precision: 0.0480 - recall: 0.9544 - tn: 219529.0000 - tp: 398.0000 - val_fn: 9.0000 - val_fp: 1608.0000 - val_loss: 0.0762 - val_precision: 0.0394 - val_recall: 0.8800 - val_tn: 55278.0000 - val_tp: 66.0000\n",
            "Epoch 6/30\n",
            "112/112 - 10s - 87ms/step - fn: 18.0000 - fp: 6890.0000 - loss: 7.8849e-07 - precision: 0.0547 - recall: 0.9568 - tn: 220539.0000 - tp: 399.0000 - val_fn: 7.0000 - val_fp: 1676.0000 - val_loss: 0.0856 - val_precision: 0.0390 - val_recall: 0.9067 - val_tn: 55210.0000 - val_tp: 68.0000\n",
            "Epoch 7/30\n",
            "112/112 - 10s - 92ms/step - fn: 20.0000 - fp: 6352.0000 - loss: 7.8240e-07 - precision: 0.0588 - recall: 0.9520 - tn: 221077.0000 - tp: 397.0000 - val_fn: 2.0000 - val_fp: 6755.0000 - val_loss: 0.2346 - val_precision: 0.0107 - val_recall: 0.9733 - val_tn: 50131.0000 - val_tp: 73.0000\n",
            "Epoch 8/30\n",
            "112/112 - 6s - 56ms/step - fn: 15.0000 - fp: 8197.0000 - loss: 7.0113e-07 - precision: 0.0467 - recall: 0.9640 - tn: 219232.0000 - tp: 402.0000 - val_fn: 9.0000 - val_fp: 798.0000 - val_loss: 0.0408 - val_precision: 0.0764 - val_recall: 0.8800 - val_tn: 56088.0000 - val_tp: 66.0000\n",
            "Epoch 9/30\n",
            "112/112 - 6s - 53ms/step - fn: 12.0000 - fp: 6326.0000 - loss: 6.3543e-07 - precision: 0.0602 - recall: 0.9712 - tn: 221103.0000 - tp: 405.0000 - val_fn: 11.0000 - val_fp: 356.0000 - val_loss: 0.0237 - val_precision: 0.1524 - val_recall: 0.8533 - val_tn: 56530.0000 - val_tp: 64.0000\n",
            "Epoch 10/30\n",
            "112/112 - 5s - 49ms/step - fn: 12.0000 - fp: 6958.0000 - loss: 7.1530e-07 - precision: 0.0550 - recall: 0.9712 - tn: 220471.0000 - tp: 405.0000 - val_fn: 7.0000 - val_fp: 1684.0000 - val_loss: 0.0707 - val_precision: 0.0388 - val_recall: 0.9067 - val_tn: 55202.0000 - val_tp: 68.0000\n",
            "Epoch 11/30\n",
            "112/112 - 10s - 91ms/step - fn: 12.0000 - fp: 6073.0000 - loss: 6.2346e-07 - precision: 0.0625 - recall: 0.9712 - tn: 221356.0000 - tp: 405.0000 - val_fn: 6.0000 - val_fp: 1667.0000 - val_loss: 0.0639 - val_precision: 0.0397 - val_recall: 0.9200 - val_tn: 55219.0000 - val_tp: 69.0000\n",
            "Epoch 12/30\n",
            "112/112 - 10s - 92ms/step - fn: 9.0000 - fp: 8322.0000 - loss: 8.1437e-07 - precision: 0.0467 - recall: 0.9784 - tn: 219107.0000 - tp: 408.0000 - val_fn: 9.0000 - val_fp: 2322.0000 - val_loss: 0.1185 - val_precision: 0.0276 - val_recall: 0.8800 - val_tn: 54564.0000 - val_tp: 66.0000\n",
            "Epoch 13/30\n",
            "112/112 - 12s - 108ms/step - fn: 17.0000 - fp: 6092.0000 - loss: 6.9272e-07 - precision: 0.0616 - recall: 0.9592 - tn: 221337.0000 - tp: 400.0000 - val_fn: 6.0000 - val_fp: 2644.0000 - val_loss: 0.0897 - val_precision: 0.0254 - val_recall: 0.9200 - val_tn: 54242.0000 - val_tp: 69.0000\n",
            "Epoch 14/30\n",
            "112/112 - 9s - 79ms/step - fn: 8.0000 - fp: 5586.0000 - loss: 4.7919e-07 - precision: 0.0682 - recall: 0.9808 - tn: 221843.0000 - tp: 409.0000 - val_fn: 9.0000 - val_fp: 1228.0000 - val_loss: 0.0620 - val_precision: 0.0510 - val_recall: 0.8800 - val_tn: 55658.0000 - val_tp: 66.0000\n",
            "Epoch 15/30\n",
            "112/112 - 10s - 87ms/step - fn: 9.0000 - fp: 5648.0000 - loss: 5.0685e-07 - precision: 0.0674 - recall: 0.9784 - tn: 221781.0000 - tp: 408.0000 - val_fn: 7.0000 - val_fp: 1456.0000 - val_loss: 0.0580 - val_precision: 0.0446 - val_recall: 0.9067 - val_tn: 55430.0000 - val_tp: 68.0000\n",
            "Epoch 16/30\n",
            "112/112 - 7s - 66ms/step - fn: 2.0000 - fp: 4542.0000 - loss: 3.7939e-07 - precision: 0.0837 - recall: 0.9952 - tn: 222887.0000 - tp: 415.0000 - val_fn: 8.0000 - val_fp: 472.0000 - val_loss: 0.0195 - val_precision: 0.1243 - val_recall: 0.8933 - val_tn: 56414.0000 - val_tp: 67.0000\n",
            "Epoch 17/30\n",
            "112/112 - 8s - 71ms/step - fn: 5.0000 - fp: 4833.0000 - loss: 3.6488e-07 - precision: 0.0786 - recall: 0.9880 - tn: 222596.0000 - tp: 412.0000 - val_fn: 10.0000 - val_fp: 372.0000 - val_loss: 0.0161 - val_precision: 0.1487 - val_recall: 0.8667 - val_tn: 56514.0000 - val_tp: 65.0000\n",
            "Epoch 18/30\n",
            "112/112 - 7s - 65ms/step - fn: 2.0000 - fp: 3297.0000 - loss: 2.7917e-07 - precision: 0.1118 - recall: 0.9952 - tn: 224132.0000 - tp: 415.0000 - val_fn: 11.0000 - val_fp: 174.0000 - val_loss: 0.0120 - val_precision: 0.2689 - val_recall: 0.8533 - val_tn: 56712.0000 - val_tp: 64.0000\n",
            "Epoch 19/30\n",
            "112/112 - 8s - 75ms/step - fn: 8.0000 - fp: 7911.0000 - loss: 6.3597e-07 - precision: 0.0492 - recall: 0.9808 - tn: 219518.0000 - tp: 409.0000 - val_fn: 9.0000 - val_fp: 886.0000 - val_loss: 0.0353 - val_precision: 0.0693 - val_recall: 0.8800 - val_tn: 56000.0000 - val_tp: 66.0000\n",
            "Epoch 20/30\n",
            "112/112 - 7s - 61ms/step - fn: 2.0000 - fp: 4651.0000 - loss: 3.6205e-07 - precision: 0.0819 - recall: 0.9952 - tn: 222778.0000 - tp: 415.0000 - val_fn: 13.0000 - val_fp: 235.0000 - val_loss: 0.0130 - val_precision: 0.2088 - val_recall: 0.8267 - val_tn: 56651.0000 - val_tp: 62.0000\n",
            "Epoch 21/30\n",
            "112/112 - 10s - 88ms/step - fn: 5.0000 - fp: 3287.0000 - loss: 3.2122e-07 - precision: 0.1114 - recall: 0.9880 - tn: 224142.0000 - tp: 412.0000 - val_fn: 9.0000 - val_fp: 1496.0000 - val_loss: 0.1069 - val_precision: 0.0423 - val_recall: 0.8800 - val_tn: 55390.0000 - val_tp: 66.0000\n",
            "Epoch 22/30\n",
            "112/112 - 6s - 54ms/step - fn: 5.0000 - fp: 4989.0000 - loss: 4.1224e-07 - precision: 0.0763 - recall: 0.9880 - tn: 222440.0000 - tp: 412.0000 - val_fn: 8.0000 - val_fp: 810.0000 - val_loss: 0.0356 - val_precision: 0.0764 - val_recall: 0.8933 - val_tn: 56076.0000 - val_tp: 67.0000\n",
            "Epoch 23/30\n",
            "112/112 - 12s - 104ms/step - fn: 7.0000 - fp: 5721.0000 - loss: 5.2413e-07 - precision: 0.0669 - recall: 0.9832 - tn: 221708.0000 - tp: 410.0000 - val_fn: 10.0000 - val_fp: 448.0000 - val_loss: 0.0280 - val_precision: 0.1267 - val_recall: 0.8667 - val_tn: 56438.0000 - val_tp: 65.0000\n",
            "Epoch 24/30\n",
            "112/112 - 5s - 48ms/step - fn: 6.0000 - fp: 4087.0000 - loss: 4.5015e-07 - precision: 0.0914 - recall: 0.9856 - tn: 223342.0000 - tp: 411.0000 - val_fn: 7.0000 - val_fp: 1101.0000 - val_loss: 0.0513 - val_precision: 0.0582 - val_recall: 0.9067 - val_tn: 55785.0000 - val_tp: 68.0000\n",
            "Epoch 25/30\n",
            "112/112 - 7s - 63ms/step - fn: 9.0000 - fp: 6074.0000 - loss: 8.6709e-07 - precision: 0.0629 - recall: 0.9784 - tn: 221355.0000 - tp: 408.0000 - val_fn: 12.0000 - val_fp: 437.0000 - val_loss: 0.0253 - val_precision: 0.1260 - val_recall: 0.8400 - val_tn: 56449.0000 - val_tp: 63.0000\n",
            "Epoch 26/30\n",
            "112/112 - 8s - 75ms/step - fn: 15.0000 - fp: 6812.0000 - loss: 2.0942e-06 - precision: 0.0557 - recall: 0.9640 - tn: 220617.0000 - tp: 402.0000 - val_fn: 12.0000 - val_fp: 641.0000 - val_loss: 0.0562 - val_precision: 0.0895 - val_recall: 0.8400 - val_tn: 56245.0000 - val_tp: 63.0000\n",
            "Epoch 27/30\n",
            "112/112 - 10s - 93ms/step - fn: 12.0000 - fp: 5092.0000 - loss: 9.1182e-07 - precision: 0.0737 - recall: 0.9712 - tn: 222337.0000 - tp: 405.0000 - val_fn: 9.0000 - val_fp: 621.0000 - val_loss: 0.0729 - val_precision: 0.0961 - val_recall: 0.8800 - val_tn: 56265.0000 - val_tp: 66.0000\n",
            "Epoch 28/30\n",
            "112/112 - 11s - 99ms/step - fn: 7.0000 - fp: 3279.0000 - loss: 7.0110e-07 - precision: 0.1111 - recall: 0.9832 - tn: 224150.0000 - tp: 410.0000 - val_fn: 9.0000 - val_fp: 1037.0000 - val_loss: 0.0525 - val_precision: 0.0598 - val_recall: 0.8800 - val_tn: 55849.0000 - val_tp: 66.0000\n",
            "Epoch 29/30\n",
            "112/112 - 6s - 49ms/step - fn: 6.0000 - fp: 3942.0000 - loss: 3.9370e-07 - precision: 0.0944 - recall: 0.9856 - tn: 223487.0000 - tp: 411.0000 - val_fn: 9.0000 - val_fp: 941.0000 - val_loss: 0.0900 - val_precision: 0.0655 - val_recall: 0.8800 - val_tn: 55945.0000 - val_tp: 66.0000\n",
            "Epoch 30/30\n",
            "112/112 - 10s - 91ms/step - fn: 5.0000 - fp: 4276.0000 - loss: 5.7496e-07 - precision: 0.0879 - recall: 0.9880 - tn: 223153.0000 - tp: 412.0000 - val_fn: 9.0000 - val_fp: 317.0000 - val_loss: 0.0197 - val_precision: 0.1723 - val_recall: 0.8800 - val_tn: 56569.0000 - val_tp: 66.0000\n"
          ]
        },
        {
          "output_type": "execute_result",
          "data": {
            "text/plain": [
              "<keras.src.callbacks.history.History at 0x797b21a4f1f0>"
            ]
          },
          "metadata": {},
          "execution_count": 8
        }
      ]
    },
    {
      "cell_type": "code",
      "source": [],
      "metadata": {
        "id": "h8-Kn440i6Lb"
      },
      "execution_count": null,
      "outputs": []
    }
  ]
}
{
  "nbformat": 4,
  "nbformat_minor": 0,
  "metadata": {
    "colab": {
      "provenance": [],
      "gpuType": "T4"
    },
    "kernelspec": {
      "name": "python3",
      "display_name": "Python 3"
    },
    "language_info": {
      "name": "python"
    },
    "accelerator": "GPU"
  },
  "cells": [
    {
      "cell_type": "code",
      "execution_count": null,
      "metadata": {
        "id": "YOALJo4UbnyN"
      },
      "outputs": [],
      "source": [
        "import math\n",
        "import numpy as np\n",
        "import pandas as pd\n",
        "import tensorflow as tf\n",
        "from tensorflow import keras\n",
        "from tensorflow.keras import layers"
      ]
    },
    {
      "cell_type": "code",
      "source": [
        "import urllib"
      ],
      "metadata": {
        "id": "AZ8eem3ou1CU"
      },
      "execution_count": null,
      "outputs": []
    },
    {
      "cell_type": "code",
      "source": [
        "CSV_HEADER = [\n",
        "    \"age\",\n",
        "    \"class_of_worker\",\n",
        "    \"detailed_industry_recode\",\n",
        "    \"detailed_occupation_recode\",\n",
        "    \"education\",\n",
        "    \"wage_per_hour\",\n",
        "    \"enroll_in_edu_inst_last_wk\",\n",
        "    \"marital_stat\",\n",
        "    \"major_industry_code\",\n",
        "    \"major_occupation_code\",\n",
        "    \"race\",\n",
        "    \"hispanic_origin\",\n",
        "    \"sex\",\n",
        "    \"member_of_a_labor_union\",\n",
        "    \"reason_for_unemployment\",\n",
        "    \"full_or_part_time_employment_stat\",\n",
        "    \"capital_gains\",\n",
        "    \"capital_losses\",\n",
        "    \"dividends_from_stocks\",\n",
        "    \"tax_filer_stat\",\n",
        "    \"region_of_previous_residence\",\n",
        "    \"state_of_previous_residence\",\n",
        "    \"detailed_household_and_family_stat\",\n",
        "    \"detailed_household_summary_in_household\",\n",
        "    \"instance_weight\",\n",
        "    \"migration_code-change_in_msa\",\n",
        "    \"migration_code-change_in_reg\",\n",
        "    \"migration_code-move_within_reg\",\n",
        "    \"live_in_this_house_1_year_ago\",\n",
        "    \"migration_prev_res_in_sunbelt\",\n",
        "    \"num_persons_worked_for_employer\",\n",
        "    \"family_members_under_18\",\n",
        "    \"country_of_birth_father\",\n",
        "    \"country_of_birth_mother\",\n",
        "    \"country_of_birth_self\",\n",
        "    \"citizenship\",\n",
        "    \"own_business_or_self_employed\",\n",
        "    \"fill_inc_questionnaire_for_veterans_admin\",\n",
        "    \"veterans_benefits\",\n",
        "    \"weeks_worked_in_year\",\n",
        "    \"year\",\n",
        "    \"income_level\",\n",
        "]\n",
        "\n",
        "BASE_PATH = \"https://kdd.ics.uci.edu/databases/census-income/census-income\"\n",
        "CSV_HEADER = [\n",
        "    l.decode(\"utf-8\").split(\":\")[0].replace(\" \", \"_\")\n",
        "    for l in urllib.request.urlopen(f\"{BASE_PATH}.names\")\n",
        "    if not l.startswith(b\"|\")\n",
        "][2:]\n",
        "CSV_HEADER.append(\"income_level\")\n",
        "\n",
        "train_data = pd.read_csv(f\"{BASE_PATH}.data.gz\", header=None, names=CSV_HEADER,)\n",
        "test_data = pd.read_csv(f\"{BASE_PATH}.test.gz\", header=None, names=CSV_HEADER,)\n",
        "\n",
        "print(f\"Data shape: {train_data.shape}\")\n",
        "print(f\"Test data shape: {test_data.shape}\")"
      ],
      "metadata": {
        "colab": {
          "base_uri": "https://localhost:8080/"
        },
        "collapsed": true,
        "id": "4zo4Mvbzbw6E",
        "outputId": "f8ec4e05-f914-42e3-dff6-58a896b79ede"
      },
      "execution_count": null,
      "outputs": [
        {
          "output_type": "stream",
          "name": "stdout",
          "text": [
            "Data shape: (199523, 42)\n",
            "Test data shape: (99762, 42)\n"
          ]
        }
      ]
    },
    {
      "cell_type": "code",
      "source": [
        "train_data[\"income_level\"] = train_data[\"income_level\"].apply(\n",
        "    lambda x: 0 if x == \" - 50000.\" else 1\n",
        ")\n",
        "test_data[\"income_level\"] = test_data[\"income_level\"].apply(\n",
        "    lambda x: 0 if x == \" - 50000.\" else 1\n",
        ")"
      ],
      "metadata": {
        "id": "6tMlJVAxb5YV"
      },
      "execution_count": null,
      "outputs": []
    },
    {
      "cell_type": "code",
      "source": [
        "random_selection = np.random.rand(len(train_data.index)) <= 0.85\n",
        "train_data = train_data[random_selection]\n",
        "valid_data = train_data[~random_selection[:len(train_data)]]"
      ],
      "metadata": {
        "id": "-_zn7IT6ep-M"
      },
      "execution_count": null,
      "outputs": []
    },
    {
      "cell_type": "code",
      "source": [
        "train_data_file = \"train_data.csv\"\n",
        "valid_data_file = \"valid_data.csv\"\n",
        "test_data_file = \"test_data.csv\"\n",
        "\n",
        "train_data.to_csv(train_data_file, index=False, header=False)\n",
        "valid_data.to_csv(valid_data_file, index=False, header=False)\n",
        "test_data.to_csv(test_data_file, index=False, header=False)"
      ],
      "metadata": {
        "id": "o87nz94Qep6n"
      },
      "execution_count": null,
      "outputs": []
    },
    {
      "cell_type": "code",
      "source": [
        "# Target feature name.\n",
        "TARGET_FEATURE_NAME = \"income_level\"\n",
        "# Weight column name.\n",
        "WEIGHT_COLUMN_NAME = \"instance_weight\"\n",
        "# Numeric feature names.\n",
        "NUMERIC_FEATURE_NAMES = [\n",
        "    \"age\",\n",
        "    \"wage_per_hour\",\n",
        "    \"capital_gains\",\n",
        "    \"capital_losses\",\n",
        "    \"dividends_from_stocks\",\n",
        "    \"num_persons_worked_for_employer\",\n",
        "    \"weeks_worked_in_year\",\n",
        "]\n",
        "# Categorical features and their vocabulary lists.\n",
        "# Note that we add 'v=' as a prefix to all categorical feature values to make\n",
        "# sure that they are treated as strings.\n",
        "CATEGORICAL_FEATURES_WITH_VOCABULARY = {\n",
        "    feature_name: sorted([str(value) for value in list(train_data[feature_name].unique())])\n",
        "    for feature_name in CSV_HEADER\n",
        "    if feature_name\n",
        "    not in list(NUMERIC_FEATURE_NAMES + [WEIGHT_COLUMN_NAME, TARGET_FEATURE_NAME])\n",
        "}\n",
        "# All features names.\n",
        "FEATURE_NAMES = NUMERIC_FEATURE_NAMES + list(\n",
        "    CATEGORICAL_FEATURES_WITH_VOCABULARY.keys()\n",
        ")\n",
        "# Feature default values.\n",
        "COLUMN_DEFAULTS = [\n",
        "    [0.0]\n",
        "    if feature_name in NUMERIC_FEATURE_NAMES + [TARGET_FEATURE_NAME, WEIGHT_COLUMN_NAME]\n",
        "    else [\"NA\"]\n",
        "    for feature_name in CSV_HEADER\n",
        "]"
      ],
      "metadata": {
        "id": "bty1nz7nep3d"
      },
      "execution_count": null,
      "outputs": []
    },
    {
      "cell_type": "code",
      "source": [
        "from tensorflow.keras.layers import StringLookup\n",
        "\n",
        "\n",
        "def process(features, target):\n",
        "    for feature_name in features:\n",
        "        if feature_name in CATEGORICAL_FEATURES_WITH_VOCABULARY:\n",
        "            # Cast categorical feature values to string.\n",
        "            features[feature_name] = tf.cast(features[feature_name], tf.dtypes.string)\n",
        "    # Get the instance weight.\n",
        "    weight = features.pop(WEIGHT_COLUMN_NAME)\n",
        "    return features, target, weight\n",
        "\n",
        "\n",
        "def get_dataset_from_csv(csv_file_path, shuffle=False, batch_size=128):\n",
        "\n",
        "    dataset = tf.data.experimental.make_csv_dataset(\n",
        "        csv_file_path,\n",
        "        batch_size=batch_size,\n",
        "        column_names=CSV_HEADER,\n",
        "        column_defaults=COLUMN_DEFAULTS,\n",
        "        label_name=TARGET_FEATURE_NAME,\n",
        "        num_epochs=1,\n",
        "        header=False,\n",
        "        shuffle=shuffle,\n",
        "    ).map(process)\n",
        "\n",
        "    return dataset\n"
      ],
      "metadata": {
        "id": "dUWIdOGpeyy5"
      },
      "execution_count": null,
      "outputs": []
    },
    {
      "cell_type": "code",
      "source": [
        "def create_model_inputs():\n",
        "    inputs = {}\n",
        "    for feature_name in FEATURE_NAMES:\n",
        "        if feature_name in NUMERIC_FEATURE_NAMES:\n",
        "            inputs[feature_name] = layers.Input(\n",
        "                name=feature_name, shape=(), dtype=tf.float32\n",
        "            )\n",
        "        else:\n",
        "            inputs[feature_name] = layers.Input(\n",
        "                name=feature_name, shape=(), dtype=tf.string\n",
        "            )\n",
        "    return inputs"
      ],
      "metadata": {
        "id": "eCpLwO5re2XD"
      },
      "execution_count": null,
      "outputs": []
    },
    {
      "cell_type": "code",
      "source": [
        "def encode_inputs(inputs, encoding_size):\n",
        "    encoded_features = []\n",
        "    for feature_name in inputs:\n",
        "        if feature_name in CATEGORICAL_FEATURES_WITH_VOCABULARY:\n",
        "            vocabulary = CATEGORICAL_FEATURES_WITH_VOCABULARY[feature_name]\n",
        "            # Create a lookup to convert a string values to an integer indices.\n",
        "            # Since we are not using a mask token nor expecting any out of vocabulary\n",
        "            # (oov) token, we set mask_token to None and  num_oov_indices to 0.\n",
        "            index = StringLookup(\n",
        "                vocabulary=vocabulary, mask_token=None, num_oov_indices=0\n",
        "            )\n",
        "            # Convert the string input values into integer indices.\n",
        "            value_index = index(inputs[feature_name])\n",
        "            # Create an embedding layer with the specified dimensions\n",
        "            embedding_ecoder = layers.Embedding(\n",
        "                input_dim=len(vocabulary), output_dim=encoding_size\n",
        "            )\n",
        "            # Convert the index values to embedding representations.\n",
        "            encoded_feature = embedding_ecoder(value_index)\n",
        "        else:\n",
        "            # Project the numeric feature to encoding_size using linear transformation.\n",
        "            encoded_feature = tf.expand_dims(inputs[feature_name], -1)\n",
        "            encoded_feature = layers.Dense(units=encoding_size)(encoded_feature)\n",
        "        encoded_features.append(encoded_feature)\n",
        "    return encoded_features"
      ],
      "metadata": {
        "id": "EXEnRBxfe2Th"
      },
      "execution_count": null,
      "outputs": []
    },
    {
      "cell_type": "code",
      "source": [
        "class GatedLinearUnit(layers.Layer):\n",
        "    def __init__(self, units):\n",
        "        super().__init__()\n",
        "        self.linear = layers.Dense(units)\n",
        "        self.sigmoid = layers.Dense(units, activation=\"sigmoid\")\n",
        "\n",
        "    def call(self, inputs):\n",
        "        return self.linear(inputs) * self.sigmoid(inputs)"
      ],
      "metadata": {
        "id": "RTEiIX7se2Qj"
      },
      "execution_count": null,
      "outputs": []
    },
    {
      "cell_type": "code",
      "source": [
        "class GatedResidualNetwork(layers.Layer):\n",
        "    def __init__(self, units, dropout_rate):\n",
        "        super().__init__()\n",
        "        self.units = units\n",
        "        self.elu_dense = layers.Dense(units, activation=\"elu\")\n",
        "        self.linear_dense = layers.Dense(units)\n",
        "        self.dropout = layers.Dropout(dropout_rate)\n",
        "        self.gated_linear_unit = GatedLinearUnit(units)\n",
        "        self.layer_norm = layers.LayerNormalization()\n",
        "        self.project = layers.Dense(units)\n",
        "\n",
        "    def call(self, inputs):\n",
        "        x = self.elu_dense(inputs)\n",
        "        x = self.linear_dense(x)\n",
        "        x = self.dropout(x)\n",
        "        if inputs.shape[-1] != self.units:\n",
        "            inputs = self.project(inputs)\n",
        "        x = inputs + self.gated_linear_unit(x)\n",
        "        x = self.layer_norm(x)\n",
        "        return x"
      ],
      "metadata": {
        "id": "KZMIXfpyfCoW"
      },
      "execution_count": null,
      "outputs": []
    },
    {
      "cell_type": "code",
      "source": [
        "class VariableSelection(layers.Layer):\n",
        "    def __init__(self, num_features, units, dropout_rate):\n",
        "        super().__init__()\n",
        "        self.grns = list()\n",
        "        # Create a GRN for each feature independently\n",
        "        for idx in range(num_features):\n",
        "            grn = GatedResidualNetwork(units, dropout_rate)\n",
        "            self.grns.append(grn)\n",
        "        # Create a GRN for the concatenation of all the features\n",
        "        self.grn_concat = GatedResidualNetwork(units, dropout_rate)\n",
        "        self.softmax = layers.Dense(units=num_features, activation=\"softmax\")\n",
        "\n",
        "    def call(self, inputs):\n",
        "        v = layers.concatenate(inputs)\n",
        "        v = self.grn_concat(v)\n",
        "        v = tf.expand_dims(self.softmax(v), axis=-1)\n",
        "\n",
        "        x = []\n",
        "        for idx, input in enumerate(inputs):\n",
        "            x.append(self.grns[idx](input))\n",
        "        x = tf.stack(x, axis=1)\n",
        "\n",
        "        outputs = tf.squeeze(tf.matmul(v, x, transpose_a=True), axis=1)\n",
        "        return outputs"
      ],
      "metadata": {
        "id": "nOe1WdbrfJP2"
      },
      "execution_count": null,
      "outputs": []
    },
    {
      "cell_type": "code",
      "source": [
        "def create_model(encoding_size):\n",
        "    inputs = create_model_inputs()\n",
        "    feature_list = encode_inputs(inputs, encoding_size)\n",
        "    num_features = len(feature_list)\n",
        "\n",
        "    features = VariableSelection(num_features, encoding_size, dropout_rate)(\n",
        "        feature_list\n",
        "    )\n",
        "\n",
        "    outputs = layers.Dense(units=1, activation=\"sigmoid\")(features)\n",
        "    model = keras.Model(inputs=inputs, outputs=outputs)\n",
        "    return model"
      ],
      "metadata": {
        "id": "Lvgwt6xTfMla"
      },
      "execution_count": null,
      "outputs": []
    },
    {
      "cell_type": "code",
      "source": [
        "learning_rate = 0.001\n",
        "dropout_rate = 0.15\n",
        "batch_size = 265\n",
        "num_epochs = 20\n",
        "encoding_size = 16\n",
        "\n",
        "model = create_model(encoding_size)\n",
        "model.compile(\n",
        "    optimizer=keras.optimizers.Adam(learning_rate=learning_rate),\n",
        "    loss=keras.losses.BinaryCrossentropy(),\n",
        "    metrics=[keras.metrics.BinaryAccuracy(name=\"accuracy\")],\n",
        ")\n",
        "\n",
        "\n",
        "# Create an early stopping callback.\n",
        "early_stopping = tf.keras.callbacks.EarlyStopping(\n",
        "    monitor=\"val_loss\", patience=5, restore_best_weights=True\n",
        ")\n",
        "\n",
        "print(\"Start training the model...\")\n",
        "train_dataset = get_dataset_from_csv(\n",
        "    train_data_file, shuffle=True, batch_size=batch_size\n",
        ")\n",
        "valid_dataset = get_dataset_from_csv(valid_data_file, batch_size=batch_size)\n",
        "model.fit(\n",
        "    train_dataset,\n",
        "    epochs=num_epochs,\n",
        "    validation_data=valid_dataset,\n",
        "    callbacks=[early_stopping],\n",
        ")\n",
        "print(\"Model training finished.\")\n",
        "\n",
        "print(\"Evaluating model performance...\")\n",
        "test_dataset = get_dataset_from_csv(test_data_file, batch_size=batch_size)\n",
        "_, accuracy = model.evaluate(test_dataset)\n",
        "print(f\"Test accuracy: {round(accuracy * 100, 2)}%\")"
      ],
      "metadata": {
        "id": "sHnjzz9QfMh_",
        "colab": {
          "base_uri": "https://localhost:8080/",
          "height": 668
        },
        "outputId": "ac9f7198-a455-46c4-fb48-f2e85eed4413"
      },
      "execution_count": null,
      "outputs": [
        {
          "output_type": "error",
          "ename": "ValueError",
          "evalue": "A KerasTensor cannot be used as input to a TensorFlow function. A KerasTensor is a symbolic placeholder for a shape and dtype, used when constructing Keras Functional models or Keras Functions. You can only use it as input to a Keras layer or a Keras operation (from the namespaces `keras.layers` and `keras.operations`). You are likely doing something like:\n\n```\nx = Input(...)\n...\ntf_fn(x)  # Invalid.\n```\n\nWhat you should do instead is wrap `tf_fn` in a layer:\n\n```\nclass MyLayer(Layer):\n    def call(self, x):\n        return tf_fn(x)\n\nx = MyLayer()(x)\n```\n",
          "traceback": [
            "\u001b[0;31m---------------------------------------------------------------------------\u001b[0m",
            "\u001b[0;31mValueError\u001b[0m                                Traceback (most recent call last)",
            "\u001b[0;32m<ipython-input-19-eb12eafbce66>\u001b[0m in \u001b[0;36m<cell line: 7>\u001b[0;34m()\u001b[0m\n\u001b[1;32m      5\u001b[0m \u001b[0mencoding_size\u001b[0m \u001b[0;34m=\u001b[0m \u001b[0;36m16\u001b[0m\u001b[0;34m\u001b[0m\u001b[0;34m\u001b[0m\u001b[0m\n\u001b[1;32m      6\u001b[0m \u001b[0;34m\u001b[0m\u001b[0m\n\u001b[0;32m----> 7\u001b[0;31m \u001b[0mmodel\u001b[0m \u001b[0;34m=\u001b[0m \u001b[0mcreate_model\u001b[0m\u001b[0;34m(\u001b[0m\u001b[0mencoding_size\u001b[0m\u001b[0;34m)\u001b[0m\u001b[0;34m\u001b[0m\u001b[0;34m\u001b[0m\u001b[0m\n\u001b[0m\u001b[1;32m      8\u001b[0m model.compile(\n\u001b[1;32m      9\u001b[0m     \u001b[0moptimizer\u001b[0m\u001b[0;34m=\u001b[0m\u001b[0mkeras\u001b[0m\u001b[0;34m.\u001b[0m\u001b[0moptimizers\u001b[0m\u001b[0;34m.\u001b[0m\u001b[0mAdam\u001b[0m\u001b[0;34m(\u001b[0m\u001b[0mlearning_rate\u001b[0m\u001b[0;34m=\u001b[0m\u001b[0mlearning_rate\u001b[0m\u001b[0;34m)\u001b[0m\u001b[0;34m,\u001b[0m\u001b[0;34m\u001b[0m\u001b[0;34m\u001b[0m\u001b[0m\n",
            "\u001b[0;32m<ipython-input-18-50f5b99f2c70>\u001b[0m in \u001b[0;36mcreate_model\u001b[0;34m(encoding_size)\u001b[0m\n\u001b[1;32m      1\u001b[0m \u001b[0;32mdef\u001b[0m \u001b[0mcreate_model\u001b[0m\u001b[0;34m(\u001b[0m\u001b[0mencoding_size\u001b[0m\u001b[0;34m)\u001b[0m\u001b[0;34m:\u001b[0m\u001b[0;34m\u001b[0m\u001b[0;34m\u001b[0m\u001b[0m\n\u001b[1;32m      2\u001b[0m     \u001b[0minputs\u001b[0m \u001b[0;34m=\u001b[0m \u001b[0mcreate_model_inputs\u001b[0m\u001b[0;34m(\u001b[0m\u001b[0;34m)\u001b[0m\u001b[0;34m\u001b[0m\u001b[0;34m\u001b[0m\u001b[0m\n\u001b[0;32m----> 3\u001b[0;31m     \u001b[0mfeature_list\u001b[0m \u001b[0;34m=\u001b[0m \u001b[0mencode_inputs\u001b[0m\u001b[0;34m(\u001b[0m\u001b[0minputs\u001b[0m\u001b[0;34m,\u001b[0m \u001b[0mencoding_size\u001b[0m\u001b[0;34m)\u001b[0m\u001b[0;34m\u001b[0m\u001b[0;34m\u001b[0m\u001b[0m\n\u001b[0m\u001b[1;32m      4\u001b[0m     \u001b[0mnum_features\u001b[0m \u001b[0;34m=\u001b[0m \u001b[0mlen\u001b[0m\u001b[0;34m(\u001b[0m\u001b[0mfeature_list\u001b[0m\u001b[0;34m)\u001b[0m\u001b[0;34m\u001b[0m\u001b[0;34m\u001b[0m\u001b[0m\n\u001b[1;32m      5\u001b[0m \u001b[0;34m\u001b[0m\u001b[0m\n",
            "\u001b[0;32m<ipython-input-14-cfaef83bfc47>\u001b[0m in \u001b[0;36mencode_inputs\u001b[0;34m(inputs, encoding_size)\u001b[0m\n\u001b[1;32m     20\u001b[0m         \u001b[0;32melse\u001b[0m\u001b[0;34m:\u001b[0m\u001b[0;34m\u001b[0m\u001b[0;34m\u001b[0m\u001b[0m\n\u001b[1;32m     21\u001b[0m             \u001b[0;31m# Project the numeric feature to encoding_size using linear transformation.\u001b[0m\u001b[0;34m\u001b[0m\u001b[0;34m\u001b[0m\u001b[0m\n\u001b[0;32m---> 22\u001b[0;31m             \u001b[0mencoded_feature\u001b[0m \u001b[0;34m=\u001b[0m \u001b[0mtf\u001b[0m\u001b[0;34m.\u001b[0m\u001b[0mexpand_dims\u001b[0m\u001b[0;34m(\u001b[0m\u001b[0minputs\u001b[0m\u001b[0;34m[\u001b[0m\u001b[0mfeature_name\u001b[0m\u001b[0;34m]\u001b[0m\u001b[0;34m,\u001b[0m \u001b[0;34m-\u001b[0m\u001b[0;36m1\u001b[0m\u001b[0;34m)\u001b[0m\u001b[0;34m\u001b[0m\u001b[0;34m\u001b[0m\u001b[0m\n\u001b[0m\u001b[1;32m     23\u001b[0m             \u001b[0mencoded_feature\u001b[0m \u001b[0;34m=\u001b[0m \u001b[0mlayers\u001b[0m\u001b[0;34m.\u001b[0m\u001b[0mDense\u001b[0m\u001b[0;34m(\u001b[0m\u001b[0munits\u001b[0m\u001b[0;34m=\u001b[0m\u001b[0mencoding_size\u001b[0m\u001b[0;34m)\u001b[0m\u001b[0;34m(\u001b[0m\u001b[0mencoded_feature\u001b[0m\u001b[0;34m)\u001b[0m\u001b[0;34m\u001b[0m\u001b[0;34m\u001b[0m\u001b[0m\n\u001b[1;32m     24\u001b[0m         \u001b[0mencoded_features\u001b[0m\u001b[0;34m.\u001b[0m\u001b[0mappend\u001b[0m\u001b[0;34m(\u001b[0m\u001b[0mencoded_feature\u001b[0m\u001b[0;34m)\u001b[0m\u001b[0;34m\u001b[0m\u001b[0;34m\u001b[0m\u001b[0m\n",
            "\u001b[0;32m/usr/local/lib/python3.10/dist-packages/tensorflow/python/ops/weak_tensor_ops.py\u001b[0m in \u001b[0;36mwrapper\u001b[0;34m(*args, **kwargs)\u001b[0m\n\u001b[1;32m     86\u001b[0m   \u001b[0;32mdef\u001b[0m \u001b[0mwrapper\u001b[0m\u001b[0;34m(\u001b[0m\u001b[0;34m*\u001b[0m\u001b[0margs\u001b[0m\u001b[0;34m,\u001b[0m \u001b[0;34m**\u001b[0m\u001b[0mkwargs\u001b[0m\u001b[0;34m)\u001b[0m\u001b[0;34m:\u001b[0m\u001b[0;34m\u001b[0m\u001b[0;34m\u001b[0m\u001b[0m\n\u001b[1;32m     87\u001b[0m     \u001b[0;32mif\u001b[0m \u001b[0;32mnot\u001b[0m \u001b[0mops\u001b[0m\u001b[0;34m.\u001b[0m\u001b[0mis_auto_dtype_conversion_enabled\u001b[0m\u001b[0;34m(\u001b[0m\u001b[0;34m)\u001b[0m\u001b[0;34m:\u001b[0m\u001b[0;34m\u001b[0m\u001b[0;34m\u001b[0m\u001b[0m\n\u001b[0;32m---> 88\u001b[0;31m       \u001b[0;32mreturn\u001b[0m \u001b[0mop\u001b[0m\u001b[0;34m(\u001b[0m\u001b[0;34m*\u001b[0m\u001b[0margs\u001b[0m\u001b[0;34m,\u001b[0m \u001b[0;34m**\u001b[0m\u001b[0mkwargs\u001b[0m\u001b[0;34m)\u001b[0m\u001b[0;34m\u001b[0m\u001b[0;34m\u001b[0m\u001b[0m\n\u001b[0m\u001b[1;32m     89\u001b[0m     \u001b[0mbound_arguments\u001b[0m \u001b[0;34m=\u001b[0m \u001b[0msignature\u001b[0m\u001b[0;34m.\u001b[0m\u001b[0mbind\u001b[0m\u001b[0;34m(\u001b[0m\u001b[0;34m*\u001b[0m\u001b[0margs\u001b[0m\u001b[0;34m,\u001b[0m \u001b[0;34m**\u001b[0m\u001b[0mkwargs\u001b[0m\u001b[0;34m)\u001b[0m\u001b[0;34m\u001b[0m\u001b[0;34m\u001b[0m\u001b[0m\n\u001b[1;32m     90\u001b[0m     \u001b[0mbound_arguments\u001b[0m\u001b[0;34m.\u001b[0m\u001b[0mapply_defaults\u001b[0m\u001b[0;34m(\u001b[0m\u001b[0;34m)\u001b[0m\u001b[0;34m\u001b[0m\u001b[0;34m\u001b[0m\u001b[0m\n",
            "\u001b[0;32m/usr/local/lib/python3.10/dist-packages/tensorflow/python/util/traceback_utils.py\u001b[0m in \u001b[0;36merror_handler\u001b[0;34m(*args, **kwargs)\u001b[0m\n\u001b[1;32m    151\u001b[0m     \u001b[0;32mexcept\u001b[0m \u001b[0mException\u001b[0m \u001b[0;32mas\u001b[0m \u001b[0me\u001b[0m\u001b[0;34m:\u001b[0m\u001b[0;34m\u001b[0m\u001b[0;34m\u001b[0m\u001b[0m\n\u001b[1;32m    152\u001b[0m       \u001b[0mfiltered_tb\u001b[0m \u001b[0;34m=\u001b[0m \u001b[0m_process_traceback_frames\u001b[0m\u001b[0;34m(\u001b[0m\u001b[0me\u001b[0m\u001b[0;34m.\u001b[0m\u001b[0m__traceback__\u001b[0m\u001b[0;34m)\u001b[0m\u001b[0;34m\u001b[0m\u001b[0;34m\u001b[0m\u001b[0m\n\u001b[0;32m--> 153\u001b[0;31m       \u001b[0;32mraise\u001b[0m \u001b[0me\u001b[0m\u001b[0;34m.\u001b[0m\u001b[0mwith_traceback\u001b[0m\u001b[0;34m(\u001b[0m\u001b[0mfiltered_tb\u001b[0m\u001b[0;34m)\u001b[0m \u001b[0;32mfrom\u001b[0m \u001b[0;32mNone\u001b[0m\u001b[0;34m\u001b[0m\u001b[0;34m\u001b[0m\u001b[0m\n\u001b[0m\u001b[1;32m    154\u001b[0m     \u001b[0;32mfinally\u001b[0m\u001b[0;34m:\u001b[0m\u001b[0;34m\u001b[0m\u001b[0;34m\u001b[0m\u001b[0m\n\u001b[1;32m    155\u001b[0m       \u001b[0;32mdel\u001b[0m \u001b[0mfiltered_tb\u001b[0m\u001b[0;34m\u001b[0m\u001b[0;34m\u001b[0m\u001b[0m\n",
            "\u001b[0;32m/usr/local/lib/python3.10/dist-packages/keras/src/backend/common/keras_tensor.py\u001b[0m in \u001b[0;36m__tf_tensor__\u001b[0;34m(self, dtype, name)\u001b[0m\n\u001b[1;32m     89\u001b[0m \u001b[0;34m\u001b[0m\u001b[0m\n\u001b[1;32m     90\u001b[0m     \u001b[0;32mdef\u001b[0m \u001b[0m__tf_tensor__\u001b[0m\u001b[0;34m(\u001b[0m\u001b[0mself\u001b[0m\u001b[0;34m,\u001b[0m \u001b[0mdtype\u001b[0m\u001b[0;34m=\u001b[0m\u001b[0;32mNone\u001b[0m\u001b[0;34m,\u001b[0m \u001b[0mname\u001b[0m\u001b[0;34m=\u001b[0m\u001b[0;32mNone\u001b[0m\u001b[0;34m)\u001b[0m\u001b[0;34m:\u001b[0m\u001b[0;34m\u001b[0m\u001b[0;34m\u001b[0m\u001b[0m\n\u001b[0;32m---> 91\u001b[0;31m         raise ValueError(\n\u001b[0m\u001b[1;32m     92\u001b[0m             \u001b[0;34m\"A KerasTensor cannot be used as input to a TensorFlow function. \"\u001b[0m\u001b[0;34m\u001b[0m\u001b[0;34m\u001b[0m\u001b[0m\n\u001b[1;32m     93\u001b[0m             \u001b[0;34m\"A KerasTensor is a symbolic placeholder for a shape and dtype, \"\u001b[0m\u001b[0;34m\u001b[0m\u001b[0;34m\u001b[0m\u001b[0m\n",
            "\u001b[0;31mValueError\u001b[0m: A KerasTensor cannot be used as input to a TensorFlow function. A KerasTensor is a symbolic placeholder for a shape and dtype, used when constructing Keras Functional models or Keras Functions. You can only use it as input to a Keras layer or a Keras operation (from the namespaces `keras.layers` and `keras.operations`). You are likely doing something like:\n\n```\nx = Input(...)\n...\ntf_fn(x)  # Invalid.\n```\n\nWhat you should do instead is wrap `tf_fn` in a layer:\n\n```\nclass MyLayer(Layer):\n    def call(self, x):\n        return tf_fn(x)\n\nx = MyLayer()(x)\n```\n"
          ]
        }
      ]
    },
    {
      "cell_type": "code",
      "source": [],
      "metadata": {
        "id": "OmKeJC1QfMfD"
      },
      "execution_count": null,
      "outputs": []
    }
  ]
}
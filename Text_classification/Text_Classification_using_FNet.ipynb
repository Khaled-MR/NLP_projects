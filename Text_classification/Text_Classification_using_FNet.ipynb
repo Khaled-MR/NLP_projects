{
  "nbformat": 4,
  "nbformat_minor": 0,
  "metadata": {
    "colab": {
      "provenance": [],
      "gpuType": "T4"
    },
    "kernelspec": {
      "name": "python3",
      "display_name": "Python 3"
    },
    "language_info": {
      "name": "python"
    },
    "accelerator": "GPU"
  },
  "cells": [
    {
      "cell_type": "code",
      "execution_count": 1,
      "metadata": {
        "colab": {
          "base_uri": "https://localhost:8080/"
        },
        "id": "vX-dmJ64sArC",
        "outputId": "6969d14b-163a-496f-8bbc-54d24e5f5183"
      },
      "outputs": [
        {
          "output_type": "stream",
          "name": "stdout",
          "text": [
            "\u001b[?25l   \u001b[90m━━━━━━━━━━━━━━━━━━━━━━━━━━━━━━━━━━━━━━━━\u001b[0m \u001b[32m0.0/548.4 kB\u001b[0m \u001b[31m?\u001b[0m eta \u001b[36m-:--:--\u001b[0m\r\u001b[2K   \u001b[91m━━━━━━━━━━━━━━━━━━━━━━━━━━━━━━━━━━━━━━━\u001b[0m\u001b[91m╸\u001b[0m \u001b[32m542.7/548.4 kB\u001b[0m \u001b[31m17.1 MB/s\u001b[0m eta \u001b[36m0:00:01\u001b[0m\r\u001b[2K   \u001b[90m━━━━━━━━━━━━━━━━━━━━━━━━━━━━━━━━━━━━━━━━\u001b[0m \u001b[32m548.4/548.4 kB\u001b[0m \u001b[31m12.1 MB/s\u001b[0m eta \u001b[36m0:00:00\u001b[0m\n",
            "\u001b[2K   \u001b[90m━━━━━━━━━━━━━━━━━━━━━━━━━━━━━━━━━━━━━━━━\u001b[0m \u001b[32m5.2/5.2 MB\u001b[0m \u001b[31m96.3 MB/s\u001b[0m eta \u001b[36m0:00:00\u001b[0m\n",
            "\u001b[2K   \u001b[90m━━━━━━━━━━━━━━━━━━━━━━━━━━━━━━━━━━━━━━━━\u001b[0m \u001b[32m1.1/1.1 MB\u001b[0m \u001b[31m18.5 MB/s\u001b[0m eta \u001b[36m0:00:00\u001b[0m\n",
            "\u001b[?25h"
          ]
        }
      ],
      "source": [
        "!pip install -q --upgrade keras-nlp\n",
        "!pip install -q --upgrade keras  # Upgrade to Keras 3."
      ]
    },
    {
      "cell_type": "code",
      "source": [
        "import keras_nlp\n",
        "import keras\n",
        "import tensorflow as tf\n",
        "import os\n",
        "\n",
        "keras.utils.set_random_seed(42)"
      ],
      "metadata": {
        "id": "cW6a53n9sMLx"
      },
      "execution_count": 2,
      "outputs": []
    },
    {
      "cell_type": "code",
      "source": [
        "BATCH_SIZE = 64\n",
        "EPOCHS = 3\n",
        "MAX_SEQUENCE_LENGTH = 512\n",
        "VOCAB_SIZE = 15000\n",
        "\n",
        "EMBED_DIM = 128\n",
        "INTERMEDIATE_DIM = 512"
      ],
      "metadata": {
        "id": "4P1I46NnsP2P"
      },
      "execution_count": 3,
      "outputs": []
    },
    {
      "cell_type": "code",
      "source": [
        "!wget http://ai.stanford.edu/~amaas/data/sentiment/aclImdb_v1.tar.gz\n",
        "!tar -xzf aclImdb_v1.tar.gz"
      ],
      "metadata": {
        "colab": {
          "base_uri": "https://localhost:8080/"
        },
        "id": "AMmzaKyqsRa8",
        "outputId": "fb35d05a-f052-42e9-a790-0f6fd8a4fc1f"
      },
      "execution_count": 4,
      "outputs": [
        {
          "output_type": "stream",
          "name": "stdout",
          "text": [
            "--2024-09-22 12:25:07--  http://ai.stanford.edu/~amaas/data/sentiment/aclImdb_v1.tar.gz\n",
            "Resolving ai.stanford.edu (ai.stanford.edu)... 171.64.68.10\n",
            "Connecting to ai.stanford.edu (ai.stanford.edu)|171.64.68.10|:80... connected.\n",
            "HTTP request sent, awaiting response... 200 OK\n",
            "Length: 84125825 (80M) [application/x-gzip]\n",
            "Saving to: ‘aclImdb_v1.tar.gz’\n",
            "\n",
            "aclImdb_v1.tar.gz   100%[===================>]  80.23M  19.1MB/s    in 4.5s    \n",
            "\n",
            "2024-09-22 12:25:12 (17.7 MB/s) - ‘aclImdb_v1.tar.gz’ saved [84125825/84125825]\n",
            "\n"
          ]
        }
      ]
    },
    {
      "cell_type": "code",
      "source": [
        "print(os.listdir(\"./aclImdb\"))\n",
        "print(os.listdir(\"./aclImdb/train\"))\n",
        "print(os.listdir(\"./aclImdb/test\"))"
      ],
      "metadata": {
        "colab": {
          "base_uri": "https://localhost:8080/"
        },
        "id": "0hB91OAgsUyI",
        "outputId": "cdd339f1-b750-40a2-c2f5-678a6921dc06"
      },
      "execution_count": 5,
      "outputs": [
        {
          "output_type": "stream",
          "name": "stdout",
          "text": [
            "['README', 'test', 'imdb.vocab', 'imdbEr.txt', 'train']\n",
            "['urls_pos.txt', 'urls_neg.txt', 'labeledBow.feat', 'neg', 'unsup', 'unsupBow.feat', 'urls_unsup.txt', 'pos']\n",
            "['urls_pos.txt', 'urls_neg.txt', 'labeledBow.feat', 'neg', 'pos']\n"
          ]
        }
      ]
    },
    {
      "cell_type": "code",
      "source": [
        "!rm -rf aclImdb/train/unsup"
      ],
      "metadata": {
        "id": "ISYGjMxmsYHJ"
      },
      "execution_count": 6,
      "outputs": []
    },
    {
      "cell_type": "code",
      "source": [
        "train_ds = keras.utils.text_dataset_from_directory(\n",
        "    \"aclImdb/train\",\n",
        "    batch_size=BATCH_SIZE,\n",
        "    validation_split=0.2,\n",
        "    subset=\"training\",\n",
        "    seed=42,\n",
        ")\n",
        "val_ds = keras.utils.text_dataset_from_directory(\n",
        "    \"aclImdb/train\",\n",
        "    batch_size=BATCH_SIZE,\n",
        "    validation_split=0.2,\n",
        "    subset=\"validation\",\n",
        "    seed=42,\n",
        ")\n",
        "test_ds = keras.utils.text_dataset_from_directory(\"aclImdb/test\", batch_size=BATCH_SIZE)"
      ],
      "metadata": {
        "colab": {
          "base_uri": "https://localhost:8080/"
        },
        "id": "FDLxTtBnsa6O",
        "outputId": "a8aeb397-5897-434e-d7e0-4882af226064"
      },
      "execution_count": 7,
      "outputs": [
        {
          "output_type": "stream",
          "name": "stdout",
          "text": [
            "Found 25000 files belonging to 2 classes.\n",
            "Using 20000 files for training.\n",
            "Found 25000 files belonging to 2 classes.\n",
            "Using 5000 files for validation.\n",
            "Found 25000 files belonging to 2 classes.\n"
          ]
        }
      ]
    },
    {
      "cell_type": "code",
      "source": [
        "train_ds = keras.utils.text_dataset_from_directory(\n",
        "    \"aclImdb/train\",\n",
        "    batch_size=BATCH_SIZE,\n",
        "    validation_split=0.2,\n",
        "    subset=\"training\",\n",
        "    seed=42,\n",
        ")\n",
        "val_ds = keras.utils.text_dataset_from_directory(\n",
        "    \"aclImdb/train\",\n",
        "    batch_size=BATCH_SIZE,\n",
        "    validation_split=0.2,\n",
        "    subset=\"validation\",\n",
        "    seed=42,\n",
        ")\n",
        "test_ds = keras.utils.text_dataset_from_directory(\"aclImdb/test\", batch_size=BATCH_SIZE)"
      ],
      "metadata": {
        "colab": {
          "base_uri": "https://localhost:8080/"
        },
        "id": "2rvqKWgUsh_O",
        "outputId": "d7c4e1d1-8a66-4a19-f62e-d337bf043963"
      },
      "execution_count": 8,
      "outputs": [
        {
          "output_type": "stream",
          "name": "stdout",
          "text": [
            "Found 25000 files belonging to 2 classes.\n",
            "Using 20000 files for training.\n",
            "Found 25000 files belonging to 2 classes.\n",
            "Using 5000 files for validation.\n",
            "Found 25000 files belonging to 2 classes.\n"
          ]
        }
      ]
    },
    {
      "cell_type": "code",
      "source": [
        "train_ds = train_ds.map(lambda x, y: (tf.strings.lower(x), y))\n",
        "val_ds = val_ds.map(lambda x, y: (tf.strings.lower(x), y))\n",
        "test_ds = test_ds.map(lambda x, y: (tf.strings.lower(x), y))"
      ],
      "metadata": {
        "id": "pOCv4rEqsrAP"
      },
      "execution_count": 9,
      "outputs": []
    },
    {
      "cell_type": "code",
      "source": [
        "for text_batch, label_batch in train_ds.take(1):\n",
        "    for i in range(3):\n",
        "        print(text_batch.numpy()[i])\n",
        "        print(label_batch.numpy()[i])"
      ],
      "metadata": {
        "colab": {
          "base_uri": "https://localhost:8080/"
        },
        "id": "PbwcgKyisv4l",
        "outputId": "fb354e91-7f45-4a4b-bf53-728cec0c5a90"
      },
      "execution_count": 10,
      "outputs": [
        {
          "output_type": "stream",
          "name": "stdout",
          "text": [
            "b'an illegal immigrant resists the social support system causing dire consequences for many. well filmed and acted even though the story is a bit forced, yet the slow pacing really sets off the conclusion. the feeling of being lost in the big city is effectively conveyed. the little person lost in the big society is something to which we can all relate, but i cannot endorse going out of your way to see this movie.'\n",
            "0\n",
            "b\"to get in touch with the beauty of this film pay close attention to the sound track, not only the music, but the way all sounds help to weave the imagery. how beautifully the opening scene leading to the expulsion of gino establishes the theme of moral ambiguity! note the way music introduces the characters as we are led inside giovanna's marriage. don't expect to find much here of the political life of italy in 1943. that's not what this is about. on the other hand, if you are susceptible to the music of images and sounds, you will be led into a word that reaches beyond neo-realism. by the end of the film we there are moments antonioni-like landscape that has more to do with the inner life of the characters than with real places. this is one of my favorite visconti films.\"\n",
            "1\n",
            "b'\"hollywood hotel\" has relationships to many films like \"ella cinders\" and \"merton of the movies\" about someone winning a contest including a contract to make films in hollywood, only to find the road to stardom either paved with pitfalls or non-existent. in fact, as i was watching it tonight, on turner classic movies, i was considering whether or not the authors of the later musical classic \"singing in the rain\" may have taken some of their ideas from \"hollywood hotel\", most notably a temperamental leading lady star in a movie studio and a conclusion concerning one person singing a film score while another person got the credit by mouthing along on screen.<br /><br />\"hollywood hotel\" is a fascinating example of movie making in the 1930s. among the supporting players is louella parsons, playing herself (and, despite some negative comments i\\'ve seen, she has a very ingratiating personality on screen and a natural command of her lines). she is not the only real person in the script. make-up specialist perc westmore briefly appears as himself to try to make one character resemble another.<br /><br />this film also was one of the first in the career of young mr. ronald reagan, playing a radio interviewer at a movie premiere. reagan actually does quite nicely in his brief scenes - particularly when he realizes that nobody dick powell is about to take over the microphone when it should be used with more important people.<br /><br />dick powell has won a hollywood contract in a contest, and is leaving his job as a saxophonist in benny goodman\\'s band. the beginning of this film, by the way, is quite impressive, as the band drives in a parade of trucks to give a proper goodbye to powell. they end up singing \"hooray for hollywood\". the interesting thing about this wonderful number is that a lyric has been left out on purpose. throughout the johnny mercer lyrics are references to such hollywood as max factor the make-up king, rin tin tin, and even a hint of tarzan. but the original song lyric referred to looking like tyrone power. obviously jack warner and his brothers were not going to advertise the leading man of 20th century fox, and the name donald duck was substituted. in any event the number showed the singers and instrumentalists of goodman\\'s orchestra at their best. so did a later five minute section of the film, where the band is rehearsing.<br /><br />powell leaves the band and his girl friend (frances langford) and goes to hollywood, only to find he is a contract player (most likely for musicals involving saxophonists). he is met by allen joslyn, the publicist of the studio (the owner is grant mitchell). joslyn is not a bad fellow, but he is busy and he tends to slough off people unless it is necessary to speak to them. he parks powell at a room at the hollywood hotel, which is also where the studio\\'s temperamental star (lola lane) lives with her father (hugh herbert), her sister (mabel todd), and her sensible if cynical assistant (glenda farrell). lane is like jean hagen in \"singing in the rain\", except her speaking voice is good. her version of \"dan lockwood\" is one \"alexander dupre\" (alan mowbray, scene stealing with ease several times). the only difference is that mowbray is not a nice guy like gene kelly was, and lane (when not wrapped up in her ego) is fully aware of it. having a fit on being by-passed for an out-of-the ordinary role she wanted, she refuses to attend the premiere of her latest film. joslyn finds a double for her (lola\\'s real life sister rosemary lane), and rosemary is made up to play the star at the premiere and the follow-up party. but she attends with powell (joslyn wanting someone who doesn\\'t know the real lola). this leads to powell knocking down mowbray when the latter makes a pest of himself. but otherwise the evening is a success, and when the two are together they start finding each other attractive.<br /><br />the complications deal with lola coming back and slapping powell in the face, after mowbray complains he was attacked by powell (\"and his gang of hoodlums\"). powell\\'s contract is bought out. working with photographer turned agent ted healey (actually not too bad in this film - he even tries to do a jolson imitation at one point), the two try to find work, ending up as employees at a hamburger stand run by bad tempered edgar kennedy (the number of broken dishes and singing customers in the restaurant give edgar plenty of time to do his slow burns with gusto). eventually powell gets a \"break\" by being hired to be dupre\\'s singing voice in a rip-off of \"gone with the wind\". this leads to the final section of the film, when rosemary lane, herbert, and healey help give powell his chance to show it\\'s his voice, not mowbrays.<br /><br />it\\'s quite a cute and appealing film even now. the worst aspects are due to it\\'s time. several jokes concerning african-americans are no longer tolerable (while trying to photograph powell as he arrives in hollywood, healey accidentally photographs a porter, and mentions to joslyn to watch out, powell photographs too darkly - get the point?). also a bit with curt bois as a fashion designer for lola lane, who is (shall we say) too high strung is not very tolerable either. herbert\\'s \"hoo-hoo\"ing is a bit much (too much of the time) but it was really popular in 1937. and an incident where healey nearly gets into a brawl at the premiere (this was one of his last films) reminds people of the tragic, still mysterious end of the comedian in december 1937. but most of the film is quite good, and won\\'t disappoint the viewer in 2008.'\n",
            "1\n"
          ]
        }
      ]
    },
    {
      "cell_type": "markdown",
      "source": [
        "Tokenizing the data\n",
        "\n",
        "We'll be using the keras_nlp.tokenizers.WordPieceTokenizer layer to tokenize the text. keras_nlp.tokenizers.WordPieceTokenizer takes a WordPiece vocabulary and has functions for tokenizing the text, and detokenizing sequences of tokens.\n",
        "\n",
        "Before we define the tokenizer, we first need to train it on the dataset we have. The WordPiece tokenization algorithm is a subword tokenization algorithm; training it on a corpus gives us a vocabulary of subwords. A subword tokenizer is a compromise between word tokenizers (word tokenizers need very large vocabularies for good coverage of input words), and character tokenizers (characters don't really encode meaning like words do). Luckily, KerasNLP makes it very simple to train WordPiece on a corpus with the keras_nlp.tokenizers.compute_word_piece_vocabulary utility.\n",
        "\n",
        "Note: The official implementation of FNet uses the SentencePiece Tokenizer."
      ],
      "metadata": {
        "id": "thnjrtvkwelL"
      }
    },
    {
      "cell_type": "code",
      "source": [
        "def train_word_piece(ds, vocab_size, reserved_tokens):\n",
        "    word_piece_ds = ds.unbatch().map(lambda x, y: x)\n",
        "    vocab = keras_nlp.tokenizers.compute_word_piece_vocabulary(\n",
        "        word_piece_ds.batch(1000).prefetch(2),\n",
        "        vocabulary_size=vocab_size,\n",
        "        reserved_tokens=reserved_tokens,\n",
        "    )\n",
        "    return vocab"
      ],
      "metadata": {
        "id": "ccvlUR9XsyeA"
      },
      "execution_count": 11,
      "outputs": []
    },
    {
      "cell_type": "code",
      "source": [
        "reserved_tokens = [\"[PAD]\", \"[UNK]\"]\n",
        "train_sentences = [element[0] for element in train_ds]\n",
        "vocab = train_word_piece(train_ds, VOCAB_SIZE, reserved_tokens)"
      ],
      "metadata": {
        "id": "EXmOTKmWs6ZK"
      },
      "execution_count": 12,
      "outputs": []
    },
    {
      "cell_type": "code",
      "source": [
        "print(\"Tokens: \", vocab[100:110])\n"
      ],
      "metadata": {
        "colab": {
          "base_uri": "https://localhost:8080/"
        },
        "id": "9QrNukLZs9n0",
        "outputId": "03fa015f-82a8-48b4-dcb5-fdacd4ab4050"
      },
      "execution_count": 13,
      "outputs": [
        {
          "output_type": "stream",
          "name": "stdout",
          "text": [
            "Tokens:  ['à', 'á', 'â', 'ã', 'ä', 'å', 'æ', 'ç', 'è', 'é']\n"
          ]
        }
      ]
    },
    {
      "cell_type": "code",
      "source": [
        "tokenizer = keras_nlp.tokenizers.WordPieceTokenizer(\n",
        "    vocabulary=vocab,\n",
        "    lowercase=False,\n",
        "    sequence_length=MAX_SEQUENCE_LENGTH,\n",
        ")"
      ],
      "metadata": {
        "id": "oAD1APpCtAC_"
      },
      "execution_count": 14,
      "outputs": []
    },
    {
      "cell_type": "code",
      "source": [
        "input_sentence_ex = train_ds.take(1).get_single_element()[0][0]\n",
        "input_tokens_ex = tokenizer(input_sentence_ex)\n",
        "\n",
        "print(\"Sentence: \", input_sentence_ex)\n",
        "print(\"Tokens: \", input_tokens_ex)\n",
        "print(\"Recovered text after detokenizing: \", tokenizer.detokenize(input_tokens_ex))"
      ],
      "metadata": {
        "colab": {
          "base_uri": "https://localhost:8080/"
        },
        "id": "H7P2eTVctCtU",
        "outputId": "072d7544-4a17-4bd9-cfd0-2c212cba3361"
      },
      "execution_count": 15,
      "outputs": [
        {
          "output_type": "stream",
          "name": "stdout",
          "text": [
            "Sentence:  tf.Tensor(b'this picture seemed way to slanted, it\\'s almost as bad as the drum beating of the right wing kooks who say everything is rosy in iraq. it paints a picture so unredeemable that i can\\'t help but wonder about it\\'s legitimacy and bias. also it seemed to meander from being about the murderous carnage of our troops to the lack of health care in the states for ptsd. to me the subject matter seemed confused, it only cared about portraying the military in a bad light, as a) an organzation that uses mind control to turn ordinary peace loving civilians into baby killers and b) an organization that once having used and spent the bodies of it\\'s soldiers then discards them to the despotic bureacracy of the v.a. this is a legitimate argument, but felt off topic for me, almost like a movie in and of itself. i felt that \"the war tapes\" and \"blood of my brother\" were much more fair and let the viewer draw some conclusions of their own rather than be beaten over the head with the film makers viewpoint. f-', shape=(), dtype=string)\n",
            "Tokens:  tf.Tensor(\n",
            "[  145   576   608   228   140    58 13343    13   143     8    58   360\n",
            "   148   209   148   137  9759  3681   139   137   344  3276    50 12092\n",
            "   164   169   269   424   141    57  2093   292   144  5115    15   143\n",
            "  7890    40   576   170  2970  2459  2412 10452   146    48   184     8\n",
            "    59   478   152   733   177   143     8    58  4060  8069 13355   138\n",
            "  8557    15   214   143   608   140   526  2121   171   247   177   137\n",
            "  4726  7336   139   395  4985   140   137   711   139  3959   597   144\n",
            "   137  1844   149    55  1175   288    15   140   203   137  1009   686\n",
            "   608  1701    13   143   197  3979   177  2514   137  1442   144    40\n",
            "   209   776    13   148    40    10   168 14198 13928   146  1260   470\n",
            "  1300   140   604  2118  2836  1873  9991   217  1006  2318   138    41\n",
            "    10   168  8469   146   422   400   480   138  1213   137  2541   139\n",
            "   143     8    58  1487   227  4319 10720   229   140   137  6310  8532\n",
            "   862    41  2215  6547 10768   139   137    61    15    40    15   145\n",
            "   141    40  7738  4120    13   152   569   260  3297   149   203    13\n",
            "   360   172    40   150   144   138   139   561    15    48   569   146\n",
            "     3   137   466  6192     3   138     3   665   139   193   707     3\n",
            "   204   207   185  1447   138   417   137   643  2731   182  8421   139\n",
            "   199   342   385   206   161  3920   253   137   566   151   137   153\n",
            "  1340  8845    15    45    14     0     0     0     0     0     0     0\n",
            "     0     0     0     0     0     0     0     0     0     0     0     0\n",
            "     0     0     0     0     0     0     0     0     0     0     0     0\n",
            "     0     0     0     0     0     0     0     0     0     0     0     0\n",
            "     0     0     0     0     0     0     0     0     0     0     0     0\n",
            "     0     0     0     0     0     0     0     0     0     0     0     0\n",
            "     0     0     0     0     0     0     0     0     0     0     0     0\n",
            "     0     0     0     0     0     0     0     0     0     0     0     0\n",
            "     0     0     0     0     0     0     0     0     0     0     0     0\n",
            "     0     0     0     0     0     0     0     0     0     0     0     0\n",
            "     0     0     0     0     0     0     0     0     0     0     0     0\n",
            "     0     0     0     0     0     0     0     0     0     0     0     0\n",
            "     0     0     0     0     0     0     0     0     0     0     0     0\n",
            "     0     0     0     0     0     0     0     0     0     0     0     0\n",
            "     0     0     0     0     0     0     0     0     0     0     0     0\n",
            "     0     0     0     0     0     0     0     0     0     0     0     0\n",
            "     0     0     0     0     0     0     0     0     0     0     0     0\n",
            "     0     0     0     0     0     0     0     0     0     0     0     0\n",
            "     0     0     0     0     0     0     0     0     0     0     0     0\n",
            "     0     0     0     0     0     0     0     0     0     0     0     0\n",
            "     0     0     0     0     0     0     0     0     0     0     0     0\n",
            "     0     0     0     0     0     0     0     0     0     0     0     0\n",
            "     0     0     0     0     0     0     0     0     0     0     0     0\n",
            "     0     0     0     0     0     0     0     0], shape=(512,), dtype=int32)\n",
            "Recovered text after detokenizing:  this picture seemed way to slanted , it ' s almost as bad as the drum beating of the right wing kooks who say everything is rosy in iraq . it paints a picture so unredeemable that i can ' t help but wonder about it ' s legitimacy and bias . also it seemed to meander from being about the murderous carnage of our troops to the lack of health care in the states for ptsd . to me the subject matter seemed confused , it only cared about portraying the military in a bad light , as a ) an organzation that uses mind control to turn ordinary peace loving civilians into baby killers and b ) an organization that once having used and spent the bodies of it ' s soldiers then discards them to the despotic bureacracy of the v . a . this is a legitimate argument , but felt off topic for me , almost like a movie in and of itself . i felt that \" the war tapes \" and \" blood of my brother \" were much more fair and let the viewer draw some conclusions of their own rather than be beaten over the head with the film makers viewpoint . f - [PAD] [PAD] [PAD] [PAD] [PAD] [PAD] [PAD] [PAD] [PAD] [PAD] [PAD] [PAD] [PAD] [PAD] [PAD] [PAD] [PAD] [PAD] [PAD] [PAD] [PAD] [PAD] [PAD] [PAD] [PAD] [PAD] [PAD] [PAD] [PAD] [PAD] [PAD] [PAD] [PAD] [PAD] [PAD] [PAD] [PAD] [PAD] [PAD] [PAD] [PAD] [PAD] [PAD] [PAD] [PAD] [PAD] [PAD] [PAD] [PAD] [PAD] [PAD] [PAD] [PAD] [PAD] [PAD] [PAD] [PAD] [PAD] [PAD] [PAD] [PAD] [PAD] [PAD] [PAD] [PAD] [PAD] [PAD] [PAD] [PAD] [PAD] [PAD] [PAD] [PAD] [PAD] [PAD] [PAD] [PAD] [PAD] [PAD] [PAD] [PAD] [PAD] [PAD] [PAD] [PAD] [PAD] [PAD] [PAD] [PAD] [PAD] [PAD] [PAD] [PAD] [PAD] [PAD] [PAD] [PAD] [PAD] [PAD] [PAD] [PAD] [PAD] [PAD] [PAD] [PAD] [PAD] [PAD] [PAD] [PAD] [PAD] [PAD] [PAD] [PAD] [PAD] [PAD] [PAD] [PAD] [PAD] [PAD] [PAD] [PAD] [PAD] [PAD] [PAD] [PAD] [PAD] [PAD] [PAD] [PAD] [PAD] [PAD] [PAD] [PAD] [PAD] [PAD] [PAD] [PAD] [PAD] [PAD] [PAD] [PAD] [PAD] [PAD] [PAD] [PAD] [PAD] [PAD] [PAD] [PAD] [PAD] [PAD] [PAD] [PAD] [PAD] [PAD] [PAD] [PAD] [PAD] [PAD] [PAD] [PAD] [PAD] [PAD] [PAD] [PAD] [PAD] [PAD] [PAD] [PAD] [PAD] [PAD] [PAD] [PAD] [PAD] [PAD] [PAD] [PAD] [PAD] [PAD] [PAD] [PAD] [PAD] [PAD] [PAD] [PAD] [PAD] [PAD] [PAD] [PAD] [PAD] [PAD] [PAD] [PAD] [PAD] [PAD] [PAD] [PAD] [PAD] [PAD] [PAD] [PAD] [PAD] [PAD] [PAD] [PAD] [PAD] [PAD] [PAD] [PAD] [PAD] [PAD] [PAD] [PAD] [PAD] [PAD] [PAD] [PAD] [PAD] [PAD] [PAD] [PAD] [PAD] [PAD] [PAD] [PAD] [PAD] [PAD] [PAD] [PAD] [PAD] [PAD] [PAD] [PAD] [PAD] [PAD] [PAD] [PAD] [PAD] [PAD] [PAD] [PAD] [PAD] [PAD] [PAD] [PAD] [PAD] [PAD] [PAD] [PAD] [PAD] [PAD] [PAD] [PAD] [PAD] [PAD] [PAD] [PAD] [PAD] [PAD] [PAD] [PAD] [PAD] [PAD] [PAD] [PAD] [PAD] [PAD] [PAD] [PAD] [PAD] [PAD] [PAD] [PAD] [PAD] [PAD] [PAD] [PAD] [PAD] [PAD]\n"
          ]
        }
      ]
    },
    {
      "cell_type": "code",
      "source": [
        "def format_dataset(sentence, label):\n",
        "    sentence = tokenizer(sentence)\n",
        "    return ({\"input_ids\": sentence}, label)\n",
        "\n",
        "\n",
        "def make_dataset(dataset):\n",
        "    dataset = dataset.map(format_dataset, num_parallel_calls=tf.data.AUTOTUNE)\n",
        "    return dataset.shuffle(512).prefetch(16).cache()\n",
        "\n",
        "\n",
        "train_ds = make_dataset(train_ds)\n",
        "val_ds = make_dataset(val_ds)\n",
        "test_ds = make_dataset(test_ds)"
      ],
      "metadata": {
        "id": "873wASuhtGYv"
      },
      "execution_count": 16,
      "outputs": []
    },
    {
      "cell_type": "code",
      "source": [
        "train_ds"
      ],
      "metadata": {
        "colab": {
          "base_uri": "https://localhost:8080/"
        },
        "id": "__DFP9TwxWKM",
        "outputId": "7d222f9e-0d2c-43ce-a4d8-6de35b6cb8eb"
      },
      "execution_count": 29,
      "outputs": [
        {
          "output_type": "execute_result",
          "data": {
            "text/plain": [
              "<CacheDataset element_spec=({'input_ids': TensorSpec(shape=(None, 512), dtype=tf.int32, name=None)}, TensorSpec(shape=(None,), dtype=tf.int32, name=None))>"
            ]
          },
          "metadata": {},
          "execution_count": 29
        }
      ]
    },
    {
      "cell_type": "markdown",
      "source": [
        "FNET"
      ],
      "metadata": {
        "id": "0R044ayVuAtG"
      }
    },
    {
      "cell_type": "code",
      "source": [
        "input_ids = keras.Input(shape=(None,), dtype=\"int64\", name=\"input_ids\")\n",
        "\n",
        "x = keras_nlp.layers.TokenAndPositionEmbedding(\n",
        "    vocabulary_size=VOCAB_SIZE,\n",
        "    sequence_length=MAX_SEQUENCE_LENGTH,\n",
        "    embedding_dim=EMBED_DIM,\n",
        "    mask_zero=True,\n",
        ")(input_ids)\n",
        "\n",
        "x = keras_nlp.layers.FNetEncoder(intermediate_dim=INTERMEDIATE_DIM)(inputs=x)\n",
        "x = keras_nlp.layers.FNetEncoder(intermediate_dim=INTERMEDIATE_DIM)(inputs=x)\n",
        "x = keras_nlp.layers.FNetEncoder(intermediate_dim=INTERMEDIATE_DIM)(inputs=x)\n",
        "\n",
        "\n",
        "x = keras.layers.GlobalAveragePooling1D()(x)\n",
        "x = keras.layers.Dropout(0.1)(x)\n",
        "outputs = keras.layers.Dense(1, activation=\"sigmoid\")(x)\n",
        "\n",
        "fnet_classifier = keras.Model(input_ids, outputs, name=\"fnet_classifier\")"
      ],
      "metadata": {
        "colab": {
          "base_uri": "https://localhost:8080/"
        },
        "id": "D4AXgVQUtLUM",
        "outputId": "9bacc8d9-ad36-4846-bac3-ae1b1cfefb00"
      },
      "execution_count": 18,
      "outputs": [
        {
          "output_type": "stream",
          "name": "stderr",
          "text": [
            "/usr/local/lib/python3.10/dist-packages/keras/src/layers/layer.py:934: UserWarning: Layer 'f_net_encoder' (of type FNetEncoder) was passed an input with a mask attached to it. However, this layer does not support masking and will therefore destroy the mask information. Downstream layers will not see the mask.\n",
            "  warnings.warn(\n"
          ]
        }
      ]
    },
    {
      "cell_type": "code",
      "source": [
        "fnet_classifier.summary()\n",
        "fnet_classifier.compile(\n",
        "    optimizer=keras.optimizers.Adam(learning_rate=0.001),\n",
        "    loss=\"binary_crossentropy\",\n",
        "    metrics=[\"accuracy\"],\n",
        ")\n",
        "fnet_classifier.fit(train_ds, epochs=EPOCHS, validation_data=val_ds)"
      ],
      "metadata": {
        "colab": {
          "base_uri": "https://localhost:8080/",
          "height": 554
        },
        "id": "csVt3ELktYjE",
        "outputId": "7531a73c-f67e-44e3-85b8-56066eaa0524"
      },
      "execution_count": 20,
      "outputs": [
        {
          "output_type": "display_data",
          "data": {
            "text/plain": [
              "\u001b[1mModel: \"fnet_classifier\"\u001b[0m\n"
            ],
            "text/html": [
              "<pre style=\"white-space:pre;overflow-x:auto;line-height:normal;font-family:Menlo,'DejaVu Sans Mono',consolas,'Courier New',monospace\"><span style=\"font-weight: bold\">Model: \"fnet_classifier\"</span>\n",
              "</pre>\n"
            ]
          },
          "metadata": {}
        },
        {
          "output_type": "display_data",
          "data": {
            "text/plain": [
              "┏━━━━━━━━━━━━━━━━━━━━━━━━━━━━━━━━━━━━━━┳━━━━━━━━━━━━━━━━━━━━━━━━━━━━━┳━━━━━━━━━━━━━━━━━┓\n",
              "┃\u001b[1m \u001b[0m\u001b[1mLayer (type)                        \u001b[0m\u001b[1m \u001b[0m┃\u001b[1m \u001b[0m\u001b[1mOutput Shape               \u001b[0m\u001b[1m \u001b[0m┃\u001b[1m \u001b[0m\u001b[1m        Param #\u001b[0m\u001b[1m \u001b[0m┃\n",
              "┡━━━━━━━━━━━━━━━━━━━━━━━━━━━━━━━━━━━━━━╇━━━━━━━━━━━━━━━━━━━━━━━━━━━━━╇━━━━━━━━━━━━━━━━━┩\n",
              "│ input_ids (\u001b[38;5;33mInputLayer\u001b[0m)               │ (\u001b[38;5;45mNone\u001b[0m, \u001b[38;5;45mNone\u001b[0m)                │               \u001b[38;5;34m0\u001b[0m │\n",
              "├──────────────────────────────────────┼─────────────────────────────┼─────────────────┤\n",
              "│ token_and_position_embedding         │ (\u001b[38;5;45mNone\u001b[0m, \u001b[38;5;45mNone\u001b[0m, \u001b[38;5;34m128\u001b[0m)           │       \u001b[38;5;34m1,985,536\u001b[0m │\n",
              "│ (\u001b[38;5;33mTokenAndPositionEmbedding\u001b[0m)          │                             │                 │\n",
              "├──────────────────────────────────────┼─────────────────────────────┼─────────────────┤\n",
              "│ f_net_encoder (\u001b[38;5;33mFNetEncoder\u001b[0m)          │ (\u001b[38;5;45mNone\u001b[0m, \u001b[38;5;45mNone\u001b[0m, \u001b[38;5;34m128\u001b[0m)           │         \u001b[38;5;34m132,224\u001b[0m │\n",
              "├──────────────────────────────────────┼─────────────────────────────┼─────────────────┤\n",
              "│ f_net_encoder_1 (\u001b[38;5;33mFNetEncoder\u001b[0m)        │ (\u001b[38;5;45mNone\u001b[0m, \u001b[38;5;45mNone\u001b[0m, \u001b[38;5;34m128\u001b[0m)           │         \u001b[38;5;34m132,224\u001b[0m │\n",
              "├──────────────────────────────────────┼─────────────────────────────┼─────────────────┤\n",
              "│ f_net_encoder_2 (\u001b[38;5;33mFNetEncoder\u001b[0m)        │ (\u001b[38;5;45mNone\u001b[0m, \u001b[38;5;45mNone\u001b[0m, \u001b[38;5;34m128\u001b[0m)           │         \u001b[38;5;34m132,224\u001b[0m │\n",
              "├──────────────────────────────────────┼─────────────────────────────┼─────────────────┤\n",
              "│ global_average_pooling1d             │ (\u001b[38;5;45mNone\u001b[0m, \u001b[38;5;34m128\u001b[0m)                 │               \u001b[38;5;34m0\u001b[0m │\n",
              "│ (\u001b[38;5;33mGlobalAveragePooling1D\u001b[0m)             │                             │                 │\n",
              "├──────────────────────────────────────┼─────────────────────────────┼─────────────────┤\n",
              "│ dropout (\u001b[38;5;33mDropout\u001b[0m)                    │ (\u001b[38;5;45mNone\u001b[0m, \u001b[38;5;34m128\u001b[0m)                 │               \u001b[38;5;34m0\u001b[0m │\n",
              "├──────────────────────────────────────┼─────────────────────────────┼─────────────────┤\n",
              "│ dense (\u001b[38;5;33mDense\u001b[0m)                        │ (\u001b[38;5;45mNone\u001b[0m, \u001b[38;5;34m1\u001b[0m)                   │             \u001b[38;5;34m129\u001b[0m │\n",
              "└──────────────────────────────────────┴─────────────────────────────┴─────────────────┘\n"
            ],
            "text/html": [
              "<pre style=\"white-space:pre;overflow-x:auto;line-height:normal;font-family:Menlo,'DejaVu Sans Mono',consolas,'Courier New',monospace\">┏━━━━━━━━━━━━━━━━━━━━━━━━━━━━━━━━━━━━━━┳━━━━━━━━━━━━━━━━━━━━━━━━━━━━━┳━━━━━━━━━━━━━━━━━┓\n",
              "┃<span style=\"font-weight: bold\"> Layer (type)                         </span>┃<span style=\"font-weight: bold\"> Output Shape                </span>┃<span style=\"font-weight: bold\">         Param # </span>┃\n",
              "┡━━━━━━━━━━━━━━━━━━━━━━━━━━━━━━━━━━━━━━╇━━━━━━━━━━━━━━━━━━━━━━━━━━━━━╇━━━━━━━━━━━━━━━━━┩\n",
              "│ input_ids (<span style=\"color: #0087ff; text-decoration-color: #0087ff\">InputLayer</span>)               │ (<span style=\"color: #00d7ff; text-decoration-color: #00d7ff\">None</span>, <span style=\"color: #00d7ff; text-decoration-color: #00d7ff\">None</span>)                │               <span style=\"color: #00af00; text-decoration-color: #00af00\">0</span> │\n",
              "├──────────────────────────────────────┼─────────────────────────────┼─────────────────┤\n",
              "│ token_and_position_embedding         │ (<span style=\"color: #00d7ff; text-decoration-color: #00d7ff\">None</span>, <span style=\"color: #00d7ff; text-decoration-color: #00d7ff\">None</span>, <span style=\"color: #00af00; text-decoration-color: #00af00\">128</span>)           │       <span style=\"color: #00af00; text-decoration-color: #00af00\">1,985,536</span> │\n",
              "│ (<span style=\"color: #0087ff; text-decoration-color: #0087ff\">TokenAndPositionEmbedding</span>)          │                             │                 │\n",
              "├──────────────────────────────────────┼─────────────────────────────┼─────────────────┤\n",
              "│ f_net_encoder (<span style=\"color: #0087ff; text-decoration-color: #0087ff\">FNetEncoder</span>)          │ (<span style=\"color: #00d7ff; text-decoration-color: #00d7ff\">None</span>, <span style=\"color: #00d7ff; text-decoration-color: #00d7ff\">None</span>, <span style=\"color: #00af00; text-decoration-color: #00af00\">128</span>)           │         <span style=\"color: #00af00; text-decoration-color: #00af00\">132,224</span> │\n",
              "├──────────────────────────────────────┼─────────────────────────────┼─────────────────┤\n",
              "│ f_net_encoder_1 (<span style=\"color: #0087ff; text-decoration-color: #0087ff\">FNetEncoder</span>)        │ (<span style=\"color: #00d7ff; text-decoration-color: #00d7ff\">None</span>, <span style=\"color: #00d7ff; text-decoration-color: #00d7ff\">None</span>, <span style=\"color: #00af00; text-decoration-color: #00af00\">128</span>)           │         <span style=\"color: #00af00; text-decoration-color: #00af00\">132,224</span> │\n",
              "├──────────────────────────────────────┼─────────────────────────────┼─────────────────┤\n",
              "│ f_net_encoder_2 (<span style=\"color: #0087ff; text-decoration-color: #0087ff\">FNetEncoder</span>)        │ (<span style=\"color: #00d7ff; text-decoration-color: #00d7ff\">None</span>, <span style=\"color: #00d7ff; text-decoration-color: #00d7ff\">None</span>, <span style=\"color: #00af00; text-decoration-color: #00af00\">128</span>)           │         <span style=\"color: #00af00; text-decoration-color: #00af00\">132,224</span> │\n",
              "├──────────────────────────────────────┼─────────────────────────────┼─────────────────┤\n",
              "│ global_average_pooling1d             │ (<span style=\"color: #00d7ff; text-decoration-color: #00d7ff\">None</span>, <span style=\"color: #00af00; text-decoration-color: #00af00\">128</span>)                 │               <span style=\"color: #00af00; text-decoration-color: #00af00\">0</span> │\n",
              "│ (<span style=\"color: #0087ff; text-decoration-color: #0087ff\">GlobalAveragePooling1D</span>)             │                             │                 │\n",
              "├──────────────────────────────────────┼─────────────────────────────┼─────────────────┤\n",
              "│ dropout (<span style=\"color: #0087ff; text-decoration-color: #0087ff\">Dropout</span>)                    │ (<span style=\"color: #00d7ff; text-decoration-color: #00d7ff\">None</span>, <span style=\"color: #00af00; text-decoration-color: #00af00\">128</span>)                 │               <span style=\"color: #00af00; text-decoration-color: #00af00\">0</span> │\n",
              "├──────────────────────────────────────┼─────────────────────────────┼─────────────────┤\n",
              "│ dense (<span style=\"color: #0087ff; text-decoration-color: #0087ff\">Dense</span>)                        │ (<span style=\"color: #00d7ff; text-decoration-color: #00d7ff\">None</span>, <span style=\"color: #00af00; text-decoration-color: #00af00\">1</span>)                   │             <span style=\"color: #00af00; text-decoration-color: #00af00\">129</span> │\n",
              "└──────────────────────────────────────┴─────────────────────────────┴─────────────────┘\n",
              "</pre>\n"
            ]
          },
          "metadata": {}
        },
        {
          "output_type": "display_data",
          "data": {
            "text/plain": [
              "\u001b[1m Total params: \u001b[0m\u001b[38;5;34m7,147,013\u001b[0m (27.26 MB)\n"
            ],
            "text/html": [
              "<pre style=\"white-space:pre;overflow-x:auto;line-height:normal;font-family:Menlo,'DejaVu Sans Mono',consolas,'Courier New',monospace\"><span style=\"font-weight: bold\"> Total params: </span><span style=\"color: #00af00; text-decoration-color: #00af00\">7,147,013</span> (27.26 MB)\n",
              "</pre>\n"
            ]
          },
          "metadata": {}
        },
        {
          "output_type": "display_data",
          "data": {
            "text/plain": [
              "\u001b[1m Trainable params: \u001b[0m\u001b[38;5;34m2,382,337\u001b[0m (9.09 MB)\n"
            ],
            "text/html": [
              "<pre style=\"white-space:pre;overflow-x:auto;line-height:normal;font-family:Menlo,'DejaVu Sans Mono',consolas,'Courier New',monospace\"><span style=\"font-weight: bold\"> Trainable params: </span><span style=\"color: #00af00; text-decoration-color: #00af00\">2,382,337</span> (9.09 MB)\n",
              "</pre>\n"
            ]
          },
          "metadata": {}
        },
        {
          "output_type": "display_data",
          "data": {
            "text/plain": [
              "\u001b[1m Non-trainable params: \u001b[0m\u001b[38;5;34m0\u001b[0m (0.00 B)\n"
            ],
            "text/html": [
              "<pre style=\"white-space:pre;overflow-x:auto;line-height:normal;font-family:Menlo,'DejaVu Sans Mono',consolas,'Courier New',monospace\"><span style=\"font-weight: bold\"> Non-trainable params: </span><span style=\"color: #00af00; text-decoration-color: #00af00\">0</span> (0.00 B)\n",
              "</pre>\n"
            ]
          },
          "metadata": {}
        },
        {
          "output_type": "display_data",
          "data": {
            "text/plain": [
              "\u001b[1m Optimizer params: \u001b[0m\u001b[38;5;34m4,764,676\u001b[0m (18.18 MB)\n"
            ],
            "text/html": [
              "<pre style=\"white-space:pre;overflow-x:auto;line-height:normal;font-family:Menlo,'DejaVu Sans Mono',consolas,'Courier New',monospace\"><span style=\"font-weight: bold\"> Optimizer params: </span><span style=\"color: #00af00; text-decoration-color: #00af00\">4,764,676</span> (18.18 MB)\n",
              "</pre>\n"
            ]
          },
          "metadata": {}
        },
        {
          "output_type": "stream",
          "name": "stdout",
          "text": [
            "Epoch 1/3\n",
            "\u001b[1m313/313\u001b[0m \u001b[32m━━━━━━━━━━━━━━━━━━━━\u001b[0m\u001b[37m\u001b[0m \u001b[1m32s\u001b[0m 67ms/step - accuracy: 0.9816 - loss: 0.0504 - val_accuracy: 0.8624 - val_loss: 0.5482\n",
            "Epoch 2/3\n",
            "\u001b[1m313/313\u001b[0m \u001b[32m━━━━━━━━━━━━━━━━━━━━\u001b[0m\u001b[37m\u001b[0m \u001b[1m14s\u001b[0m 45ms/step - accuracy: 0.9737 - loss: 0.0708 - val_accuracy: 0.8632 - val_loss: 0.5500\n",
            "Epoch 3/3\n",
            "\u001b[1m313/313\u001b[0m \u001b[32m━━━━━━━━━━━━━━━━━━━━\u001b[0m\u001b[37m\u001b[0m \u001b[1m20s\u001b[0m 44ms/step - accuracy: 0.9902 - loss: 0.0269 - val_accuracy: 0.8586 - val_loss: 0.6134\n"
          ]
        },
        {
          "output_type": "execute_result",
          "data": {
            "text/plain": [
              "<keras.src.callbacks.history.History at 0x7f1e828aa710>"
            ]
          },
          "metadata": {},
          "execution_count": 20
        }
      ]
    },
    {
      "cell_type": "code",
      "source": [
        "fnet_classifier.evaluate(test_ds, batch_size=BATCH_SIZE)\n"
      ],
      "metadata": {
        "colab": {
          "base_uri": "https://localhost:8080/"
        },
        "id": "Mxq3ijs8tYWw",
        "outputId": "ea2e4a16-5330-4bb5-b0a4-55ccfb7f5403"
      },
      "execution_count": 21,
      "outputs": [
        {
          "output_type": "stream",
          "name": "stdout",
          "text": [
            "\u001b[1m391/391\u001b[0m \u001b[32m━━━━━━━━━━━━━━━━━━━━\u001b[0m\u001b[37m\u001b[0m \u001b[1m11s\u001b[0m 18ms/step - accuracy: 0.8461 - loss: 0.6304\n"
          ]
        },
        {
          "output_type": "execute_result",
          "data": {
            "text/plain": [
              "[0.6511550545692444, 0.8434000015258789]"
            ]
          },
          "metadata": {},
          "execution_count": 21
        }
      ]
    },
    {
      "cell_type": "markdown",
      "source": [
        "Transformer"
      ],
      "metadata": {
        "id": "X1Ivn7czt7og"
      }
    },
    {
      "cell_type": "code",
      "source": [
        "NUM_HEADS = 2\n",
        "input_ids = keras.Input(shape=(None,), dtype=\"int64\", name=\"input_ids\")\n",
        "\n",
        "\n",
        "x = keras_nlp.layers.TokenAndPositionEmbedding(\n",
        "    vocabulary_size=VOCAB_SIZE,\n",
        "    sequence_length=MAX_SEQUENCE_LENGTH,\n",
        "    embedding_dim=EMBED_DIM,\n",
        "    mask_zero=True,\n",
        ")(input_ids)\n",
        "\n",
        "x = keras_nlp.layers.TransformerEncoder(\n",
        "    intermediate_dim=INTERMEDIATE_DIM, num_heads=NUM_HEADS\n",
        ")(inputs=x)\n",
        "x = keras_nlp.layers.TransformerEncoder(\n",
        "    intermediate_dim=INTERMEDIATE_DIM, num_heads=NUM_HEADS\n",
        ")(inputs=x)\n",
        "x = keras_nlp.layers.TransformerEncoder(\n",
        "    intermediate_dim=INTERMEDIATE_DIM, num_heads=NUM_HEADS\n",
        ")(inputs=x)\n",
        "\n",
        "\n",
        "x = keras.layers.GlobalAveragePooling1D()(x)\n",
        "x = keras.layers.Dropout(0.1)(x)\n",
        "outputs = keras.layers.Dense(1, activation=\"sigmoid\")(x)\n",
        "\n",
        "transformer_classifier = keras.Model(input_ids, outputs, name=\"transformer_classifier\")\n",
        "\n",
        "\n",
        "transformer_classifier.summary()\n",
        "transformer_classifier.compile(\n",
        "    optimizer=keras.optimizers.Adam(learning_rate=0.001),\n",
        "    loss=\"binary_crossentropy\",\n",
        "    metrics=[\"accuracy\"],\n",
        ")\n",
        "transformer_classifier.fit(train_ds, epochs=EPOCHS, validation_data=val_ds)"
      ],
      "metadata": {
        "colab": {
          "base_uri": "https://localhost:8080/",
          "height": 743
        },
        "id": "xYDze31_tkdD",
        "outputId": "1702c3e1-788c-4634-ab4b-062a6cde1c62"
      },
      "execution_count": 22,
      "outputs": [
        {
          "output_type": "display_data",
          "data": {
            "text/plain": [
              "\u001b[1mModel: \"transformer_classifier\"\u001b[0m\n"
            ],
            "text/html": [
              "<pre style=\"white-space:pre;overflow-x:auto;line-height:normal;font-family:Menlo,'DejaVu Sans Mono',consolas,'Courier New',monospace\"><span style=\"font-weight: bold\">Model: \"transformer_classifier\"</span>\n",
              "</pre>\n"
            ]
          },
          "metadata": {}
        },
        {
          "output_type": "display_data",
          "data": {
            "text/plain": [
              "┏━━━━━━━━━━━━━━━━━━━━━━━━━━━┳━━━━━━━━━━━━━━━━━━━━━━━━┳━━━━━━━━━━━━━━━━┳━━━━━━━━━━━━━━━━━━━━━━━━┓\n",
              "┃\u001b[1m \u001b[0m\u001b[1mLayer (type)             \u001b[0m\u001b[1m \u001b[0m┃\u001b[1m \u001b[0m\u001b[1mOutput Shape          \u001b[0m\u001b[1m \u001b[0m┃\u001b[1m \u001b[0m\u001b[1m       Param #\u001b[0m\u001b[1m \u001b[0m┃\u001b[1m \u001b[0m\u001b[1mConnected to          \u001b[0m\u001b[1m \u001b[0m┃\n",
              "┡━━━━━━━━━━━━━━━━━━━━━━━━━━━╇━━━━━━━━━━━━━━━━━━━━━━━━╇━━━━━━━━━━━━━━━━╇━━━━━━━━━━━━━━━━━━━━━━━━┩\n",
              "│ input_ids (\u001b[38;5;33mInputLayer\u001b[0m)    │ (\u001b[38;5;45mNone\u001b[0m, \u001b[38;5;45mNone\u001b[0m)           │              \u001b[38;5;34m0\u001b[0m │ -                      │\n",
              "├───────────────────────────┼────────────────────────┼────────────────┼────────────────────────┤\n",
              "│ token_and_position_embed… │ (\u001b[38;5;45mNone\u001b[0m, \u001b[38;5;45mNone\u001b[0m, \u001b[38;5;34m128\u001b[0m)      │      \u001b[38;5;34m1,985,536\u001b[0m │ input_ids[\u001b[38;5;34m0\u001b[0m][\u001b[38;5;34m0\u001b[0m]        │\n",
              "│ (\u001b[38;5;33mTokenAndPositionEmbeddi…\u001b[0m │                        │                │                        │\n",
              "├───────────────────────────┼────────────────────────┼────────────────┼────────────────────────┤\n",
              "│ transformer_encoder       │ (\u001b[38;5;45mNone\u001b[0m, \u001b[38;5;45mNone\u001b[0m, \u001b[38;5;34m128\u001b[0m)      │        \u001b[38;5;34m198,272\u001b[0m │ token_and_position_em… │\n",
              "│ (\u001b[38;5;33mTransformerEncoder\u001b[0m)      │                        │                │                        │\n",
              "├───────────────────────────┼────────────────────────┼────────────────┼────────────────────────┤\n",
              "│ transformer_encoder_1     │ (\u001b[38;5;45mNone\u001b[0m, \u001b[38;5;45mNone\u001b[0m, \u001b[38;5;34m128\u001b[0m)      │        \u001b[38;5;34m198,272\u001b[0m │ transformer_encoder[\u001b[38;5;34m0\u001b[0m… │\n",
              "│ (\u001b[38;5;33mTransformerEncoder\u001b[0m)      │                        │                │                        │\n",
              "├───────────────────────────┼────────────────────────┼────────────────┼────────────────────────┤\n",
              "│ transformer_encoder_2     │ (\u001b[38;5;45mNone\u001b[0m, \u001b[38;5;45mNone\u001b[0m, \u001b[38;5;34m128\u001b[0m)      │        \u001b[38;5;34m198,272\u001b[0m │ transformer_encoder_1… │\n",
              "│ (\u001b[38;5;33mTransformerEncoder\u001b[0m)      │                        │                │                        │\n",
              "├───────────────────────────┼────────────────────────┼────────────────┼────────────────────────┤\n",
              "│ not_equal_1 (\u001b[38;5;33mNotEqual\u001b[0m)    │ (\u001b[38;5;45mNone\u001b[0m, \u001b[38;5;45mNone\u001b[0m)           │              \u001b[38;5;34m0\u001b[0m │ input_ids[\u001b[38;5;34m0\u001b[0m][\u001b[38;5;34m0\u001b[0m]        │\n",
              "├───────────────────────────┼────────────────────────┼────────────────┼────────────────────────┤\n",
              "│ global_average_pooling1d… │ (\u001b[38;5;45mNone\u001b[0m, \u001b[38;5;34m128\u001b[0m)            │              \u001b[38;5;34m0\u001b[0m │ transformer_encoder_2… │\n",
              "│ (\u001b[38;5;33mGlobalAveragePooling1D\u001b[0m)  │                        │                │ not_equal_1[\u001b[38;5;34m0\u001b[0m][\u001b[38;5;34m0\u001b[0m]      │\n",
              "├───────────────────────────┼────────────────────────┼────────────────┼────────────────────────┤\n",
              "│ dropout_4 (\u001b[38;5;33mDropout\u001b[0m)       │ (\u001b[38;5;45mNone\u001b[0m, \u001b[38;5;34m128\u001b[0m)            │              \u001b[38;5;34m0\u001b[0m │ global_average_poolin… │\n",
              "├───────────────────────────┼────────────────────────┼────────────────┼────────────────────────┤\n",
              "│ dense_1 (\u001b[38;5;33mDense\u001b[0m)           │ (\u001b[38;5;45mNone\u001b[0m, \u001b[38;5;34m1\u001b[0m)              │            \u001b[38;5;34m129\u001b[0m │ dropout_4[\u001b[38;5;34m0\u001b[0m][\u001b[38;5;34m0\u001b[0m]        │\n",
              "└───────────────────────────┴────────────────────────┴────────────────┴────────────────────────┘\n"
            ],
            "text/html": [
              "<pre style=\"white-space:pre;overflow-x:auto;line-height:normal;font-family:Menlo,'DejaVu Sans Mono',consolas,'Courier New',monospace\">┏━━━━━━━━━━━━━━━━━━━━━━━━━━━┳━━━━━━━━━━━━━━━━━━━━━━━━┳━━━━━━━━━━━━━━━━┳━━━━━━━━━━━━━━━━━━━━━━━━┓\n",
              "┃<span style=\"font-weight: bold\"> Layer (type)              </span>┃<span style=\"font-weight: bold\"> Output Shape           </span>┃<span style=\"font-weight: bold\">        Param # </span>┃<span style=\"font-weight: bold\"> Connected to           </span>┃\n",
              "┡━━━━━━━━━━━━━━━━━━━━━━━━━━━╇━━━━━━━━━━━━━━━━━━━━━━━━╇━━━━━━━━━━━━━━━━╇━━━━━━━━━━━━━━━━━━━━━━━━┩\n",
              "│ input_ids (<span style=\"color: #0087ff; text-decoration-color: #0087ff\">InputLayer</span>)    │ (<span style=\"color: #00d7ff; text-decoration-color: #00d7ff\">None</span>, <span style=\"color: #00d7ff; text-decoration-color: #00d7ff\">None</span>)           │              <span style=\"color: #00af00; text-decoration-color: #00af00\">0</span> │ -                      │\n",
              "├───────────────────────────┼────────────────────────┼────────────────┼────────────────────────┤\n",
              "│ token_and_position_embed… │ (<span style=\"color: #00d7ff; text-decoration-color: #00d7ff\">None</span>, <span style=\"color: #00d7ff; text-decoration-color: #00d7ff\">None</span>, <span style=\"color: #00af00; text-decoration-color: #00af00\">128</span>)      │      <span style=\"color: #00af00; text-decoration-color: #00af00\">1,985,536</span> │ input_ids[<span style=\"color: #00af00; text-decoration-color: #00af00\">0</span>][<span style=\"color: #00af00; text-decoration-color: #00af00\">0</span>]        │\n",
              "│ (<span style=\"color: #0087ff; text-decoration-color: #0087ff\">TokenAndPositionEmbeddi…</span> │                        │                │                        │\n",
              "├───────────────────────────┼────────────────────────┼────────────────┼────────────────────────┤\n",
              "│ transformer_encoder       │ (<span style=\"color: #00d7ff; text-decoration-color: #00d7ff\">None</span>, <span style=\"color: #00d7ff; text-decoration-color: #00d7ff\">None</span>, <span style=\"color: #00af00; text-decoration-color: #00af00\">128</span>)      │        <span style=\"color: #00af00; text-decoration-color: #00af00\">198,272</span> │ token_and_position_em… │\n",
              "│ (<span style=\"color: #0087ff; text-decoration-color: #0087ff\">TransformerEncoder</span>)      │                        │                │                        │\n",
              "├───────────────────────────┼────────────────────────┼────────────────┼────────────────────────┤\n",
              "│ transformer_encoder_1     │ (<span style=\"color: #00d7ff; text-decoration-color: #00d7ff\">None</span>, <span style=\"color: #00d7ff; text-decoration-color: #00d7ff\">None</span>, <span style=\"color: #00af00; text-decoration-color: #00af00\">128</span>)      │        <span style=\"color: #00af00; text-decoration-color: #00af00\">198,272</span> │ transformer_encoder[<span style=\"color: #00af00; text-decoration-color: #00af00\">0</span>… │\n",
              "│ (<span style=\"color: #0087ff; text-decoration-color: #0087ff\">TransformerEncoder</span>)      │                        │                │                        │\n",
              "├───────────────────────────┼────────────────────────┼────────────────┼────────────────────────┤\n",
              "│ transformer_encoder_2     │ (<span style=\"color: #00d7ff; text-decoration-color: #00d7ff\">None</span>, <span style=\"color: #00d7ff; text-decoration-color: #00d7ff\">None</span>, <span style=\"color: #00af00; text-decoration-color: #00af00\">128</span>)      │        <span style=\"color: #00af00; text-decoration-color: #00af00\">198,272</span> │ transformer_encoder_1… │\n",
              "│ (<span style=\"color: #0087ff; text-decoration-color: #0087ff\">TransformerEncoder</span>)      │                        │                │                        │\n",
              "├───────────────────────────┼────────────────────────┼────────────────┼────────────────────────┤\n",
              "│ not_equal_1 (<span style=\"color: #0087ff; text-decoration-color: #0087ff\">NotEqual</span>)    │ (<span style=\"color: #00d7ff; text-decoration-color: #00d7ff\">None</span>, <span style=\"color: #00d7ff; text-decoration-color: #00d7ff\">None</span>)           │              <span style=\"color: #00af00; text-decoration-color: #00af00\">0</span> │ input_ids[<span style=\"color: #00af00; text-decoration-color: #00af00\">0</span>][<span style=\"color: #00af00; text-decoration-color: #00af00\">0</span>]        │\n",
              "├───────────────────────────┼────────────────────────┼────────────────┼────────────────────────┤\n",
              "│ global_average_pooling1d… │ (<span style=\"color: #00d7ff; text-decoration-color: #00d7ff\">None</span>, <span style=\"color: #00af00; text-decoration-color: #00af00\">128</span>)            │              <span style=\"color: #00af00; text-decoration-color: #00af00\">0</span> │ transformer_encoder_2… │\n",
              "│ (<span style=\"color: #0087ff; text-decoration-color: #0087ff\">GlobalAveragePooling1D</span>)  │                        │                │ not_equal_1[<span style=\"color: #00af00; text-decoration-color: #00af00\">0</span>][<span style=\"color: #00af00; text-decoration-color: #00af00\">0</span>]      │\n",
              "├───────────────────────────┼────────────────────────┼────────────────┼────────────────────────┤\n",
              "│ dropout_4 (<span style=\"color: #0087ff; text-decoration-color: #0087ff\">Dropout</span>)       │ (<span style=\"color: #00d7ff; text-decoration-color: #00d7ff\">None</span>, <span style=\"color: #00af00; text-decoration-color: #00af00\">128</span>)            │              <span style=\"color: #00af00; text-decoration-color: #00af00\">0</span> │ global_average_poolin… │\n",
              "├───────────────────────────┼────────────────────────┼────────────────┼────────────────────────┤\n",
              "│ dense_1 (<span style=\"color: #0087ff; text-decoration-color: #0087ff\">Dense</span>)           │ (<span style=\"color: #00d7ff; text-decoration-color: #00d7ff\">None</span>, <span style=\"color: #00af00; text-decoration-color: #00af00\">1</span>)              │            <span style=\"color: #00af00; text-decoration-color: #00af00\">129</span> │ dropout_4[<span style=\"color: #00af00; text-decoration-color: #00af00\">0</span>][<span style=\"color: #00af00; text-decoration-color: #00af00\">0</span>]        │\n",
              "└───────────────────────────┴────────────────────────┴────────────────┴────────────────────────┘\n",
              "</pre>\n"
            ]
          },
          "metadata": {}
        },
        {
          "output_type": "display_data",
          "data": {
            "text/plain": [
              "\u001b[1m Total params: \u001b[0m\u001b[38;5;34m2,580,481\u001b[0m (9.84 MB)\n"
            ],
            "text/html": [
              "<pre style=\"white-space:pre;overflow-x:auto;line-height:normal;font-family:Menlo,'DejaVu Sans Mono',consolas,'Courier New',monospace\"><span style=\"font-weight: bold\"> Total params: </span><span style=\"color: #00af00; text-decoration-color: #00af00\">2,580,481</span> (9.84 MB)\n",
              "</pre>\n"
            ]
          },
          "metadata": {}
        },
        {
          "output_type": "display_data",
          "data": {
            "text/plain": [
              "\u001b[1m Trainable params: \u001b[0m\u001b[38;5;34m2,580,481\u001b[0m (9.84 MB)\n"
            ],
            "text/html": [
              "<pre style=\"white-space:pre;overflow-x:auto;line-height:normal;font-family:Menlo,'DejaVu Sans Mono',consolas,'Courier New',monospace\"><span style=\"font-weight: bold\"> Trainable params: </span><span style=\"color: #00af00; text-decoration-color: #00af00\">2,580,481</span> (9.84 MB)\n",
              "</pre>\n"
            ]
          },
          "metadata": {}
        },
        {
          "output_type": "display_data",
          "data": {
            "text/plain": [
              "\u001b[1m Non-trainable params: \u001b[0m\u001b[38;5;34m0\u001b[0m (0.00 B)\n"
            ],
            "text/html": [
              "<pre style=\"white-space:pre;overflow-x:auto;line-height:normal;font-family:Menlo,'DejaVu Sans Mono',consolas,'Courier New',monospace\"><span style=\"font-weight: bold\"> Non-trainable params: </span><span style=\"color: #00af00; text-decoration-color: #00af00\">0</span> (0.00 B)\n",
              "</pre>\n"
            ]
          },
          "metadata": {}
        },
        {
          "output_type": "stream",
          "name": "stdout",
          "text": [
            "Epoch 1/3\n"
          ]
        },
        {
          "output_type": "stream",
          "name": "stderr",
          "text": [
            "/usr/local/lib/python3.10/dist-packages/keras/src/layers/layer.py:934: UserWarning: Layer 'query' (of type EinsumDense) was passed an input with a mask attached to it. However, this layer does not support masking and will therefore destroy the mask information. Downstream layers will not see the mask.\n",
            "  warnings.warn(\n",
            "/usr/local/lib/python3.10/dist-packages/keras/src/layers/layer.py:934: UserWarning: Layer 'key' (of type EinsumDense) was passed an input with a mask attached to it. However, this layer does not support masking and will therefore destroy the mask information. Downstream layers will not see the mask.\n",
            "  warnings.warn(\n",
            "/usr/local/lib/python3.10/dist-packages/keras/src/layers/layer.py:934: UserWarning: Layer 'value' (of type EinsumDense) was passed an input with a mask attached to it. However, this layer does not support masking and will therefore destroy the mask information. Downstream layers will not see the mask.\n",
            "  warnings.warn(\n"
          ]
        },
        {
          "output_type": "stream",
          "name": "stdout",
          "text": [
            "\u001b[1m313/313\u001b[0m \u001b[32m━━━━━━━━━━━━━━━━━━━━\u001b[0m\u001b[37m\u001b[0m \u001b[1m57s\u001b[0m 136ms/step - accuracy: 0.6546 - loss: 0.6510 - val_accuracy: 0.8856 - val_loss: 0.2750\n",
            "Epoch 2/3\n",
            "\u001b[1m313/313\u001b[0m \u001b[32m━━━━━━━━━━━━━━━━━━━━\u001b[0m\u001b[37m\u001b[0m \u001b[1m67s\u001b[0m 109ms/step - accuracy: 0.9060 - loss: 0.2395 - val_accuracy: 0.8894 - val_loss: 0.2930\n",
            "Epoch 3/3\n",
            "\u001b[1m313/313\u001b[0m \u001b[32m━━━━━━━━━━━━━━━━━━━━\u001b[0m\u001b[37m\u001b[0m \u001b[1m32s\u001b[0m 101ms/step - accuracy: 0.9442 - loss: 0.1567 - val_accuracy: 0.8674 - val_loss: 0.3980\n"
          ]
        },
        {
          "output_type": "execute_result",
          "data": {
            "text/plain": [
              "<keras.src.callbacks.history.History at 0x7f1dfdebab30>"
            ]
          },
          "metadata": {},
          "execution_count": 22
        }
      ]
    },
    {
      "cell_type": "code",
      "source": [
        "transformer_classifier.evaluate(test_ds, batch_size=BATCH_SIZE)"
      ],
      "metadata": {
        "colab": {
          "base_uri": "https://localhost:8080/"
        },
        "id": "hCenRsJ1uHtQ",
        "outputId": "b40c7efa-e352-4218-84a5-672db05668b9"
      },
      "execution_count": 23,
      "outputs": [
        {
          "output_type": "stream",
          "name": "stdout",
          "text": [
            "\u001b[1m391/391\u001b[0m \u001b[32m━━━━━━━━━━━━━━━━━━━━\u001b[0m\u001b[37m\u001b[0m \u001b[1m14s\u001b[0m 37ms/step - accuracy: 0.8350 - loss: 0.5113\n"
          ]
        },
        {
          "output_type": "execute_result",
          "data": {
            "text/plain": [
              "[0.5173237919807434, 0.8327999711036682]"
            ]
          },
          "metadata": {},
          "execution_count": 23
        }
      ]
    },
    {
      "cell_type": "markdown",
      "source": [
        "Let's make a table and compare the two models. We can see that FNet significantly speeds up our run time (1.7x), with only a small sacrifice in overall accuracy (drop of 0.75%)."
      ],
      "metadata": {
        "id": "NnoaZwzkudSD"
      }
    },
    {
      "cell_type": "markdown",
      "source": [
        "![image.png](data:image/png;base64,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)"
      ],
      "metadata": {
        "id": "b4zfaUUTufCt"
      }
    },
    {
      "cell_type": "code",
      "source": [],
      "metadata": {
        "id": "w4FXSz3_uWmw"
      },
      "execution_count": null,
      "outputs": []
    }
  ]
}